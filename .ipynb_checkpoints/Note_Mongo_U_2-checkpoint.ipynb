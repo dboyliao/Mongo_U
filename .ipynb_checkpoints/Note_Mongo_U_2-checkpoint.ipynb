{
 "metadata": {
  "name": "",
  "signature": "sha256:5dd92c8a5c2bc6c534eb2f356396056b18646999c0a374018f942b1f3fd900ab"
 },
 "nbformat": 3,
 "nbformat_minor": 0,
 "worksheets": [
  {
   "cells": [
    {
     "cell_type": "code",
     "collapsed": false,
     "input": [
      "# Here are some examples in python which are equivalent instructions to \"show dbs\", \"use database_name\" and \"db.insert()\" \n",
      "import pymongo\n",
      "client = pymongo.MongoClient(\"localhost\", 27017)\n",
      "client.database_names() # \"> show dbs\""
     ],
     "language": "python",
     "metadata": {},
     "outputs": [
      {
       "metadata": {},
       "output_type": "pyout",
       "prompt_number": 54,
       "text": [
        "[u'local', u'my_test', u'pcat']"
       ]
      }
     ],
     "prompt_number": 54
    },
    {
     "cell_type": "code",
     "collapsed": false,
     "input": [
      "db = client['my_test'] # \"> use my_test\" \\\\ if my_test does not exist, this instruction will create a new database.\n",
      "qmal = db.qmal         # \"db.qmal\" \\\\if collection qmal does not exist, it will create a new one for you.\n",
      "                       # However, no record will be created if that collection is empty."
     ],
     "language": "python",
     "metadata": {},
     "outputs": [],
     "prompt_number": 55
    },
    {
     "cell_type": "code",
     "collapsed": false,
     "input": [
      "qmal.insert({'name':'Dboy', 'age':27}) # \"> db.qmal.insert({...})\" \\\\ insert new document into db.qmal\n",
      "                                       # At this time, collection qmal will be created under my_test database."
     ],
     "language": "python",
     "metadata": {},
     "outputs": [
      {
       "metadata": {},
       "output_type": "pyout",
       "prompt_number": 56,
       "text": [
        "ObjectId('53d9fc5bbd3f4834b5478384')"
       ]
      }
     ],
     "prompt_number": 56
    },
    {
     "cell_type": "code",
     "collapsed": false,
     "input": [
      "# \"> db.getLastError()\"\n",
      "db.get_lasterror_options()"
     ],
     "language": "python",
     "metadata": {},
     "outputs": [
      {
       "metadata": {},
       "output_type": "pyout",
       "prompt_number": 57,
       "text": [
        "{}"
       ]
      }
     ],
     "prompt_number": 57
    },
    {
     "cell_type": "code",
     "collapsed": false,
     "input": [
      "# \"> show collctioons\"\n",
      "for name in db.collection_names():\n",
      "    print name"
     ],
     "language": "python",
     "metadata": {},
     "outputs": [
      {
       "output_type": "stream",
       "stream": "stdout",
       "text": [
        "system.indexes\n",
        "qmal\n"
       ]
      }
     ],
     "prompt_number": 58
    },
    {
     "cell_type": "markdown",
     "metadata": {},
     "source": [
      "Week 2\n",
      "===\n",
      "\n",
      "## Topics of this week.\n",
      "\n",
      "- insert() method\n",
      "- update() method\n",
      "- save() method\n"
     ]
    },
    {
     "cell_type": "markdown",
     "metadata": {},
     "source": [
      "## insert()\n",
      "\n",
      "```\n",
      "Syntax: db.<collection>.insert({document})\n",
      "Insert a document to db.collection.\n",
      "```\n",
      "\n",
      "Examples:\n",
      "\n",
      "- \"> db.qmal.insert({name:\"c3h3\", age:\"secret\", heigh: 172})\": insert one document.\n",
      "- \"> db.qmal.insert([{doc1}, {doc2}])\": insert multiple documents."
     ]
    },
    {
     "cell_type": "code",
     "collapsed": false,
     "input": [
      "print '> db.qmal.insert({name:\"c3h3\", age:\"secret\", heigh:172})'\n",
      "print \"Result:\"\n",
      "qmal.insert({\"name\":\"c3h3\", \"age\":\"secret\", \"heigh\":172})\n",
      "for item in qmal.find():\n",
      "    print item"
     ],
     "language": "python",
     "metadata": {},
     "outputs": [
      {
       "output_type": "stream",
       "stream": "stdout",
       "text": [
        "> db.qmal.insert({name:\"c3h3\", age:\"secret\", heigh:172})\n",
        "Result:\n",
        "{u'age': 27, u'_id': ObjectId('53d9fc5bbd3f4834b5478384'), u'name': u'Dboy'}\n",
        "{u'age': u'secret', u'_id': ObjectId('53d9fc5dbd3f4834b5478385'), u'heigh': 172, u'name': u'c3h3'}\n"
       ]
      }
     ],
     "prompt_number": 59
    },
    {
     "cell_type": "code",
     "collapsed": false,
     "input": [
      "print 'db.qmal.insert([{\"name\": \"a\", \"age\":18}, {\"name\":\"Zoe\", \"age\":29}])'\n",
      "print \"Results:\"\n",
      "qmal.insert([{\"name\": \"a\", \"age\":18}, {\"name\":\"Zoe\", \"age\":29}])\n",
      "for item in qmal.find():\n",
      "    print item"
     ],
     "language": "python",
     "metadata": {},
     "outputs": [
      {
       "output_type": "stream",
       "stream": "stdout",
       "text": [
        "db.qmal.insert([{\"name\": \"a\", \"age\":18}, {\"name\":\"Zoe\", \"age\":29}])\n",
        "Results:\n",
        "{u'age': 27, u'_id': ObjectId('53d9fc5bbd3f4834b5478384'), u'name': u'Dboy'}\n",
        "{u'age': u'secret', u'_id': ObjectId('53d9fc5dbd3f4834b5478385'), u'heigh': 172, u'name': u'c3h3'}\n",
        "{u'age': 18, u'_id': ObjectId('53d9fc5dbd3f4834b5478386'), u'name': u'a'}\n",
        "{u'age': 29, u'_id': ObjectId('53d9fc5dbd3f4834b5478387'), u'name': u'Zoe'}\n"
       ]
      }
     ],
     "prompt_number": 60
    },
    {
     "cell_type": "markdown",
     "metadata": {},
     "source": [
      "## update()\n",
      "\n",
      "```\n",
      "Discreption:\n",
      "    1. Full document replacement/update.\n",
      "    2. Partial document update.\n",
      "\n",
      "Syntax: db.<collection>.update(<where>, <doc-or-partial-update-expression>, [options: upsert, multi])\n",
      "```\n",
      "\n",
      "Examples:\n",
      "- \"> db.qmal.update({age:27}, {{age: 30, name: 'Dboy'}})\"\n",
      "- Find one specific observation in database and update it according to _id field."
     ]
    },
    {
     "cell_type": "code",
     "collapsed": false,
     "input": [
      "print \"> db.qmal.update({age:27}, {{age: 30, name: 'Dboy'}})\"\n",
      "print \"Results:\"\n",
      "qmal.update({\"age\":27}, {'age': 30, 'name': 'Dboy'})\n",
      "for item in qmal.find():\n",
      "    print item"
     ],
     "language": "python",
     "metadata": {},
     "outputs": [
      {
       "output_type": "stream",
       "stream": "stdout",
       "text": [
        "> db.qmal.update({age:27}, {{age: 30, name: 'Dboy'}})\n",
        "Results:\n",
        "{u'age': 30, u'_id': ObjectId('53d9fc5bbd3f4834b5478384'), u'name': u'Dboy'}\n",
        "{u'age': u'secret', u'_id': ObjectId('53d9fc5dbd3f4834b5478385'), u'heigh': 172, u'name': u'c3h3'}\n",
        "{u'age': 18, u'_id': ObjectId('53d9fc5dbd3f4834b5478386'), u'name': u'a'}\n",
        "{u'age': 29, u'_id': ObjectId('53d9fc5dbd3f4834b5478387'), u'name': u'Zoe'}\n"
       ]
      }
     ],
     "prompt_number": 61
    },
    {
     "cell_type": "code",
     "collapsed": false,
     "input": [
      "print \"> myobj = db.qmal.findOne({age:18})\"\n",
      "print \"> myobj.male = true\"\n",
      "print \"> db.qmal.update({_id:myobj._id}, myobj)\"\n",
      "print \"Results:\"\n",
      "tmp = qmal.find_one({\"age\":18})\n",
      "tmp['male'] = 'true'\n",
      "qmal.update({\"_id\":tmp[\"_id\"]}, tmp)\n",
      "for item in qmal.find():\n",
      "    print item"
     ],
     "language": "python",
     "metadata": {},
     "outputs": [
      {
       "output_type": "stream",
       "stream": "stdout",
       "text": [
        "> myobj = db.qmal.findOne({age:18})\n",
        "> myobj.male = true\n",
        "> db.qmal.update({_id:myobj._id}, myobj)\n",
        "Results:\n",
        "{u'age': 30, u'_id': ObjectId('53d9fc5bbd3f4834b5478384'), u'name': u'Dboy'}\n",
        "{u'age': u'secret', u'_id': ObjectId('53d9fc5dbd3f4834b5478385'), u'heigh': 172, u'name': u'c3h3'}\n",
        "{u'age': 29, u'_id': ObjectId('53d9fc5dbd3f4834b5478387'), u'name': u'Zoe'}\n",
        "{u'age': 18, u'_id': ObjectId('53d9fc5dbd3f4834b5478386'), u'male': u'true', u'name': u'a'}\n"
       ]
      }
     ],
     "prompt_number": 62
    },
    {
     "cell_type": "markdown",
     "metadata": {},
     "source": [
      "## save()\n",
      "\n",
      "```\n",
      "Discreption: Helper function that combine both find() and update()\n",
      "Syntax: db.<collection>.save({doc})\n",
      "```\n",
      "\n",
      "save() is a short-hand function not a mongo shell command.\n",
      "Here is the source code of save():\n",
      "\n",
      "```\n",
      "db.qmal.save\n",
      "function ( obj ){\n",
      "    if ( obj == null || typeof( obj ) == \"undefined\" )\n",
      "        throw \"can't save a null\";\n",
      "\n",
      "    if ( typeof( obj ) == \"number\" || typeof( obj) == \"string\" )\n",
      "        throw \"can't save a number or string\"\n",
      "\n",
      "    if ( typeof( obj._id ) == \"undefined\" ){\n",
      "        obj._id = new ObjectId();\n",
      "        return this.insert( obj );\n",
      "    }\n",
      "    else {\n",
      "        return this.update( { _id : obj._id } , obj , true );\n",
      "    }\n",
      "}\n",
      "```\n",
      "\n",
      "Examples:\n",
      "- \"> db.qmal.save(tmp)\""
     ]
    },
    {
     "cell_type": "code",
     "collapsed": false,
     "input": [
      "tmp['male'] = 'false'\n",
      "qmal.save(tmp)\n",
      "for item in qmal.find():\n",
      "    print item"
     ],
     "language": "python",
     "metadata": {},
     "outputs": [
      {
       "output_type": "stream",
       "stream": "stdout",
       "text": [
        "{u'age': 30, u'_id': ObjectId('53d9fc5bbd3f4834b5478384'), u'name': u'Dboy'}\n",
        "{u'age': u'secret', u'_id': ObjectId('53d9fc5dbd3f4834b5478385'), u'heigh': 172, u'name': u'c3h3'}\n",
        "{u'age': 29, u'_id': ObjectId('53d9fc5dbd3f4834b5478387'), u'name': u'Zoe'}\n",
        "{u'age': 18, u'_id': ObjectId('53d9fc5dbd3f4834b5478386'), u'male': u'false', u'name': u'a'}\n"
       ]
      }
     ],
     "prompt_number": 63
    },
    {
     "cell_type": "markdown",
     "metadata": {},
     "source": [
      "## Partial Update\n",
      "\n",
      "```\n",
      "Syntax: db.<collection>.update({query}, {update_operator})\n",
      "Notice: the default size limitation in mongodb of each document is 16MB.\n",
      "```\n",
      "\n",
      "Basic Update Operator:\n",
      "- `$set`: set value.\n",
      "- `$unset`: remove value.\n",
      "- `$push`: push to an array.\n",
      "- `$pushAll`: push multiple items.\n",
      "- `$addToSet`: push without duplications.\n",
      "- `$pop`: remove the first or last element of an array\n",
      "- `$unset`\n",
      "- ...\n",
      "\n",
      "See more at: http://docs.mongodb.org/manual/reference/operator/update/\n",
      "\n",
      "Examples:\n",
      "\n",
      "- \"> db.qmal.update({name:'a'}, {$set:{age:30}})\": set 'age' to 30 for the document with name 'a'.\n",
      "\n",
      "- \"> db.qmal.update({name:'c3h3'}, {$push:{interest:'coding'}})\": push single item and store it as an array(list).\n",
      "\n",
      "- \"> db.qmal.update({name:'c3h3'}, {$pushAll:{interst:['cooking', 'math']}})\": push multiple items.<br>\n",
      "\n",
      "```\n",
      "Alternative Syntax: db.qmal.update({name:'c3h3'},\n",
      "                                   {$push:{interest:{$each:['cooking', 'math']}}})\n",
      "\n",
      "```\n",
      "\n",
      "- \"> db.qmal.update({name:'c3h3'}, {$addToSet:{interest:'budism'}})\": push without duplicate.\n"
     ]
    },
    {
     "cell_type": "code",
     "collapsed": false,
     "input": [
      "print \"> db.qmal.update({name:'a'}, {$set:{age:30}})\"\n",
      "print \"Results:\"\n",
      "qmal.update({\"name\":\"a\"}, {\"$set\":{\"age\":30}})\n",
      "for item in qmal.find():\n",
      "    print item"
     ],
     "language": "python",
     "metadata": {},
     "outputs": [
      {
       "output_type": "stream",
       "stream": "stdout",
       "text": [
        "> db.qmal.update({name:'a'}, {$set:{age:30}})\n",
        "Results:\n",
        "{u'age': 30, u'_id': ObjectId('53d9fc5bbd3f4834b5478384'), u'name': u'Dboy'}\n",
        "{u'age': u'secret', u'_id': ObjectId('53d9fc5dbd3f4834b5478385'), u'heigh': 172, u'name': u'c3h3'}\n",
        "{u'age': 29, u'_id': ObjectId('53d9fc5dbd3f4834b5478387'), u'name': u'Zoe'}\n",
        "{u'age': 30, u'_id': ObjectId('53d9fc5dbd3f4834b5478386'), u'male': u'false', u'name': u'a'}\n"
       ]
      }
     ],
     "prompt_number": 64
    },
    {
     "cell_type": "code",
     "collapsed": false,
     "input": [
      "print \"> db.qmal.update({name:'c3h3'}, {$push:{interest:'coding'}})\"\n",
      "print \"Results:\"\n",
      "qmal.update({\"name\":\"c3h3\"}, {\"$push\":{\"interest\":\"coding\"}})\n",
      "for item in qmal.find():\n",
      "    print item"
     ],
     "language": "python",
     "metadata": {},
     "outputs": [
      {
       "output_type": "stream",
       "stream": "stdout",
       "text": [
        "> db.qmal.update({name:'c3h3'}, {$push:{interest:'coding'}})\n",
        "Results:\n",
        "{u'age': 30, u'_id': ObjectId('53d9fc5bbd3f4834b5478384'), u'name': u'Dboy'}\n",
        "{u'age': 29, u'_id': ObjectId('53d9fc5dbd3f4834b5478387'), u'name': u'Zoe'}\n",
        "{u'age': 30, u'_id': ObjectId('53d9fc5dbd3f4834b5478386'), u'male': u'false', u'name': u'a'}\n",
        "{u'age': u'secret', u'_id': ObjectId('53d9fc5dbd3f4834b5478385'), u'heigh': 172, u'interest': [u'coding'], u'name': u'c3h3'}\n"
       ]
      }
     ],
     "prompt_number": 65
    },
    {
     "cell_type": "code",
     "collapsed": false,
     "input": [
      "print \"> db.qmal.update({name:'c3h3'}, {$pushAll:{interst:['cooking', 'math']}})\"\n",
      "print \"Results:\"\n",
      "qmal.update({\"name\":\"c3h3\"}, {\"$pushAll\":{\"interest\":['cooking', 'math']}})\n",
      "for item in qmal.find():\n",
      "    print item"
     ],
     "language": "python",
     "metadata": {},
     "outputs": [
      {
       "output_type": "stream",
       "stream": "stdout",
       "text": [
        "> db.qmal.update({name:'c3h3'}, {$pushAll:{interst:['cooking', 'math']}})\n",
        "Results:\n",
        "{u'age': 30, u'_id': ObjectId('53d9fc5bbd3f4834b5478384'), u'name': u'Dboy'}\n",
        "{u'age': 29, u'_id': ObjectId('53d9fc5dbd3f4834b5478387'), u'name': u'Zoe'}\n",
        "{u'age': 30, u'_id': ObjectId('53d9fc5dbd3f4834b5478386'), u'male': u'false', u'name': u'a'}\n",
        "{u'age': u'secret', u'_id': ObjectId('53d9fc5dbd3f4834b5478385'), u'heigh': 172, u'interest': [u'coding', u'cooking', u'math'], u'name': u'c3h3'}\n"
       ]
      }
     ],
     "prompt_number": 66
    },
    {
     "cell_type": "code",
     "collapsed": false,
     "input": [
      "print \"> db.qmal.update({name:'c3h3'}, {$addToSet:{interest:'budism'}})\"\n",
      "print \"> db.qmal.update({name:'c3h3'}, {$addToSet:{interest:'budism'}})\"\n",
      "print \"> db.qmal.update({name:'c3h3'}, {$addToSet:{interest:'budism'}})\"\n",
      "print \"Results:\"\n",
      "qmal.update({'name':'c3h3'}, {'$addToSet':{'interest':'budism'}})\n",
      "qmal.update({'name':'c3h3'}, {'$addToSet':{'interest':'budism'}})\n",
      "qmal.update({'name':'c3h3'}, {'$addToSet':{'interest':'budism'}})\n",
      "qmal.update({'name':'c3h3'}, {'$addToSet':{'interest':{'$each':['budism', 'computer science']}}})\n",
      "for item in qmal.find():\n",
      "    print item"
     ],
     "language": "python",
     "metadata": {},
     "outputs": [
      {
       "output_type": "stream",
       "stream": "stdout",
       "text": [
        "> db.qmal.update({name:'c3h3'}, {$addToSet:{interest:'budism'}})\n",
        "> db.qmal.update({name:'c3h3'}, {$addToSet:{interest:'budism'}})\n",
        "> db.qmal.update({name:'c3h3'}, {$addToSet:{interest:'budism'}})\n",
        "Results:\n",
        "{u'age': 30, u'_id': ObjectId('53d9fc5bbd3f4834b5478384'), u'name': u'Dboy'}\n",
        "{u'age': 29, u'_id': ObjectId('53d9fc5dbd3f4834b5478387'), u'name': u'Zoe'}\n",
        "{u'age': 30, u'_id': ObjectId('53d9fc5dbd3f4834b5478386'), u'male': u'false', u'name': u'a'}\n",
        "{u'age': u'secret', u'_id': ObjectId('53d9fc5dbd3f4834b5478385'), u'heigh': 172, u'interest': [u'coding', u'cooking', u'math', u'budism', u'computer science'], u'name': u'c3h3'}\n"
       ]
      }
     ],
     "prompt_number": 67
    },
    {
     "cell_type": "code",
     "collapsed": false,
     "input": [
      "print \"> db.qmal.update({name:'c3h3'}, {$pop:{interest:1}})\"\n",
      "print \"Results:\"\n",
      "qmal.update({\"name\":\"c3h3\"}, {\"$pop\":{\"interest\":1}})\n",
      "for item in qmal.find():\n",
      "    print item\n",
      "print\n",
      "print \"> db.qmal.update({name:'c3h3'}, {$pop:{interest:-1}})\"\n",
      "print \"Results:\"\n",
      "qmal.update({\"name\":\"c3h3\"}, {\"$pop\":{\"interest\":-1}})\n",
      "for item in qmal.find():\n",
      "    print item"
     ],
     "language": "python",
     "metadata": {},
     "outputs": [
      {
       "output_type": "stream",
       "stream": "stdout",
       "text": [
        "> db.qmal.update({name:'c3h3'}, {$pop:{interest:1}})\n",
        "Results:\n",
        "{u'age': 30, u'_id': ObjectId('53d9fc5bbd3f4834b5478384'), u'name': u'Dboy'}\n",
        "{u'age': 29, u'_id': ObjectId('53d9fc5dbd3f4834b5478387'), u'name': u'Zoe'}\n",
        "{u'age': 30, u'_id': ObjectId('53d9fc5dbd3f4834b5478386'), u'male': u'false', u'name': u'a'}\n",
        "{u'age': u'secret', u'_id': ObjectId('53d9fc5dbd3f4834b5478385'), u'heigh': 172, u'interest': [u'coding', u'cooking', u'math', u'budism'], u'name': u'c3h3'}\n",
        "\n",
        "> db.qmal.update({name:'c3h3'}, {$pop:{interest:-1}})\n",
        "Results:\n",
        "{u'age': 30, u'_id': ObjectId('53d9fc5bbd3f4834b5478384'), u'name': u'Dboy'}\n",
        "{u'age': 29, u'_id': ObjectId('53d9fc5dbd3f4834b5478387'), u'name': u'Zoe'}\n",
        "{u'age': 30, u'_id': ObjectId('53d9fc5dbd3f4834b5478386'), u'male': u'false', u'name': u'a'}\n",
        "{u'age': u'secret', u'_id': ObjectId('53d9fc5dbd3f4834b5478385'), u'heigh': 172, u'interest': [u'cooking', u'math', u'budism'], u'name': u'c3h3'}\n"
       ]
      }
     ],
     "prompt_number": 68
    },
    {
     "cell_type": "code",
     "collapsed": false,
     "input": [
      "print \"> db.qmal.update({name:'a'}, {$unset:{male:''}})\"\n",
      "print \"Results:\"\n",
      "qmal.update({'name':'a'}, {'$unset':{'male':''}})\n",
      "for item in qmal.find():\n",
      "    print item"
     ],
     "language": "python",
     "metadata": {},
     "outputs": [
      {
       "output_type": "stream",
       "stream": "stdout",
       "text": [
        "> db.qmal.update({name:'a'}, {$unset:{male:''}})\n",
        "Results:\n",
        "{u'age': 30, u'_id': ObjectId('53d9fc5bbd3f4834b5478384'), u'name': u'Dboy'}\n",
        "{u'age': 30, u'_id': ObjectId('53d9fc5dbd3f4834b5478386'), u'name': u'a'}\n",
        "{u'age': u'secret', u'_id': ObjectId('53d9fc5dbd3f4834b5478385'), u'heigh': 172, u'interest': [u'cooking', u'math', u'budism'], u'name': u'c3h3'}\n",
        "{u'age': 29, u'_id': ObjectId('53d9fc5dbd3f4834b5478387'), u'Univerisity': {u'BS': u'NTU', u'MS': u'Michigen', u'PhD': u'Minnesota'}, u'name': u'Zoe'}\n"
       ]
      }
     ],
     "prompt_number": 83
    },
    {
     "cell_type": "markdown",
     "metadata": {},
     "source": [
      "## Removing/Delete Document\n",
      "\n",
      "```\n",
      "Discreption: Remove or delet document from database.(Multi-document operation)\n",
      "Syntax: db.<collection>.remove(<expression>)\n",
      "```\n",
      "\n",
      "Examples:\n",
      "\n",
      "- \"db.qmal.remove({name:'Dboy'})\": remove document with name field 'Dboy'.\n",
      "- \"db.qmal.remove({})\": remove all documents in qmal.\n",
      "- \"db.qmal.remove({\"University.BS\":'NTU'})\": matching with object."
     ]
    },
    {
     "cell_type": "code",
     "collapsed": false,
     "input": [
      "qmal.update({'name':'Zoe'}, {\"$set\":{\"University\":{'BS':'NTU', \"MS\":\"Michigen\", \"PhD\":\"Minnesota\"}}})\n",
      "for item in qmal.find():\n",
      "    print item"
     ],
     "language": "python",
     "metadata": {},
     "outputs": [
      {
       "output_type": "stream",
       "stream": "stdout",
       "text": [
        "{u'age': 30, u'_id': ObjectId('53d9fc5bbd3f4834b5478384'), u'name': u'Dboy'}\n",
        "{u'age': 30, u'_id': ObjectId('53d9fc5dbd3f4834b5478386'), u'name': u'a'}\n",
        "{u'age': u'secret', u'_id': ObjectId('53d9fc5dbd3f4834b5478385'), u'heigh': 172, u'interest': [u'cooking', u'math', u'budism'], u'name': u'c3h3'}\n",
        "{u'University': {u'BS': u'NTU', u'MS': u'Michigen', u'PhD': u'Minnesota'}, u'_id': ObjectId('53d9fc5dbd3f4834b5478387'), u'age': 29, u'name': u'Zoe'}\n"
       ]
      }
     ],
     "prompt_number": 88
    },
    {
     "cell_type": "code",
     "collapsed": false,
     "input": [
      "print '> db.qmal.'\n",
      "for item in qmal.find({\"University.BS\":'NTU'}):\n",
      "    print item"
     ],
     "language": "python",
     "metadata": {},
     "outputs": [
      {
       "output_type": "stream",
       "stream": "stdout",
       "text": [
        "{u'University': {u'BS': u'NTU', u'MS': u'Michigen', u'PhD': u'Minnesota'}, u'_id': ObjectId('53d9fc5dbd3f4834b5478387'), u'age': 29, u'name': u'Zoe'}\n"
       ]
      }
     ],
     "prompt_number": 91
    },
    {
     "cell_type": "code",
     "collapsed": false,
     "input": [
      "tmp = []\n",
      "for item in qmal.find({'name':'Zoe'}):\n",
      "    tmp.append(item)\n",
      "Zoe2 = tmp[0]\n",
      "print Zoe2\n",
      "print type(Zoe2)"
     ],
     "language": "python",
     "metadata": {},
     "outputs": [
      {
       "output_type": "stream",
       "stream": "stdout",
       "text": [
        "{u'University': {u'BS': u'NTU', u'MS': u'Michigen', u'PhD': u'Minnesota'}, u'_id': ObjectId('53d9fc5dbd3f4834b5478387'), u'age': 29, u'name': u'Zoe'}\n",
        "<type 'dict'>\n"
       ]
      }
     ],
     "prompt_number": 94
    },
    {
     "cell_type": "code",
     "collapsed": false,
     "input": [
      "Zoe2['University']['BS'] = 'Far Far Away U'\n",
      "Zoe2['_id'] = '100'"
     ],
     "language": "python",
     "metadata": {},
     "outputs": [],
     "prompt_number": 99
    },
    {
     "cell_type": "code",
     "collapsed": false,
     "input": [
      "qmal.insert(Zoe2)\n",
      "for item in qmal.find():\n",
      "    print item"
     ],
     "language": "python",
     "metadata": {},
     "outputs": [
      {
       "output_type": "stream",
       "stream": "stdout",
       "text": [
        "{u'age': 30, u'_id': ObjectId('53d9fc5bbd3f4834b5478384'), u'name': u'Dboy'}\n",
        "{u'age': 30, u'_id': ObjectId('53d9fc5dbd3f4834b5478386'), u'name': u'a'}\n",
        "{u'age': u'secret', u'_id': ObjectId('53d9fc5dbd3f4834b5478385'), u'heigh': 172, u'interest': [u'cooking', u'math', u'budism'], u'name': u'c3h3'}\n",
        "{u'University': {u'BS': u'NTU', u'MS': u'Michigen', u'PhD': u'Minnesota'}, u'_id': ObjectId('53d9fc5dbd3f4834b5478387'), u'age': 29, u'name': u'Zoe'}\n",
        "{u'University': {u'PhD': u'Minnesota', u'MS': u'Michigen', u'BS': u'Far Far Away U'}, u'_id': u'100', u'age': 29, u'name': u'Zoe'}\n"
       ]
      }
     ],
     "prompt_number": 100
    },
    {
     "cell_type": "code",
     "collapsed": false,
     "input": [
      "print \"> db.qmal.remove({University.BS: 'Far Far Away U'})\"\n",
      "print \"Results:\"\n",
      "qmal.remove({\"University.BS\":'Far Far Away U'})\n",
      "for item in qmal.find():\n",
      "    print item"
     ],
     "language": "python",
     "metadata": {},
     "outputs": [
      {
       "output_type": "stream",
       "stream": "stdout",
       "text": [
        "> db.qmal.remove({University.BS: 'Far Far Away U'})\n",
        "Results:\n",
        "{u'age': 30, u'_id': ObjectId('53d9fc5bbd3f4834b5478384'), u'name': u'Dboy'}\n",
        "{u'age': 30, u'_id': ObjectId('53d9fc5dbd3f4834b5478386'), u'name': u'a'}\n",
        "{u'age': u'secret', u'_id': ObjectId('53d9fc5dbd3f4834b5478385'), u'heigh': 172, u'interest': [u'cooking', u'math', u'budism'], u'name': u'c3h3'}\n",
        "{u'University': {u'BS': u'NTU', u'MS': u'Michigen', u'PhD': u'Minnesota'}, u'_id': ObjectId('53d9fc5dbd3f4834b5478387'), u'age': 29, u'name': u'Zoe'}\n"
       ]
      }
     ],
     "prompt_number": 101
    },
    {
     "cell_type": "code",
     "collapsed": false,
     "input": [],
     "language": "python",
     "metadata": {},
     "outputs": []
    }
   ],
   "metadata": {}
  }
 ]
}