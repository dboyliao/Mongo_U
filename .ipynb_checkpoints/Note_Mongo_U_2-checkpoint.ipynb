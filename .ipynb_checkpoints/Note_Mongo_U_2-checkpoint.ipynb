{
 "metadata": {
  "name": "",
  "signature": "sha256:532dafacd6f366d08f20d091d1dd2bcc5a6070e2ba1c8cf6066700640483a9fd"
 },
 "nbformat": 3,
 "nbformat_minor": 0,
 "worksheets": [
  {
   "cells": [
    {
     "cell_type": "code",
     "collapsed": false,
     "input": [
      "# Here are some examples in python which are equivalent instructions to \"show dbs\", \"use database_name\" and \"db.insert()\" \n",
      "import pymongo\n",
      "client = pymongo.MongoClient(\"localhost\", 27017)\n",
      "client.database_names() # \"> show dbs\""
     ],
     "language": "python",
     "metadata": {},
     "outputs": [
      {
       "metadata": {},
       "output_type": "pyout",
       "prompt_number": 7,
       "text": [
        "[u'local', u'my_test', u'pcat']"
       ]
      }
     ],
     "prompt_number": 7
    },
    {
     "cell_type": "code",
     "collapsed": false,
     "input": [
      "db = client['my_test'] # \"> use my_test\" \\\\ if my_test does not exist, this instruction will create a new database.\n",
      "qmal = db.qmal         # \"db.qmal\" \\\\if collection qmal does not exist, it will create a new one for you.\n",
      "                       # However, no record will be created if that collection is empty."
     ],
     "language": "python",
     "metadata": {},
     "outputs": [],
     "prompt_number": 8
    },
    {
     "cell_type": "code",
     "collapsed": false,
     "input": [
      "qmal.insert({'name':'Dboy', 'age':27}) # \"> db.qmal.insert({...})\" \\\\ insert new document into db.qmal\n",
      "                                       # At this time, collection qmal will be created under my_test database."
     ],
     "language": "python",
     "metadata": {},
     "outputs": [
      {
       "metadata": {},
       "output_type": "pyout",
       "prompt_number": 9,
       "text": [
        "ObjectId('53d9a985bd3f482e7f93156d')"
       ]
      }
     ],
     "prompt_number": 9
    },
    {
     "cell_type": "markdown",
     "metadata": {},
     "source": [
      "# Week 2\n",
      "\n",
      "Topics of this week.\n",
      "\n",
      "- insert() method\n",
      "- update() method\n",
      "- save() method\n"
     ]
    },
    {
     "cell_type": "markdown",
     "metadata": {},
     "source": []
    },
    {
     "cell_type": "markdown",
     "metadata": {},
     "source": []
    },
    {
     "cell_type": "code",
     "collapsed": false,
     "input": [],
     "language": "python",
     "metadata": {},
     "outputs": []
    },
    {
     "cell_type": "code",
     "collapsed": false,
     "input": [],
     "language": "python",
     "metadata": {},
     "outputs": []
    },
    {
     "cell_type": "code",
     "collapsed": false,
     "input": [],
     "language": "python",
     "metadata": {},
     "outputs": []
    }
   ],
   "metadata": {}
  }
 ]
}