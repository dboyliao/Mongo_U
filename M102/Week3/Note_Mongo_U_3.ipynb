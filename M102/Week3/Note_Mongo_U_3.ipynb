{
 "metadata": {
  "name": "",
  "signature": "sha256:651cd0a350a58c843f6cee39998dfbb71cd557a3928753debf1fbd6ffc0c8a75"
 },
 "nbformat": 3,
 "nbformat_minor": 0,
 "worksheets": [
  {
   "cells": [
    {
     "cell_type": "markdown",
     "metadata": {},
     "source": [
      "<font color='red'>Don't forget to complete the note on db.collection.ensureIndex(), dropIndex() and getIndexes().</font> "
     ]
    },
    {
     "cell_type": "code",
     "collapsed": false,
     "input": [],
     "language": "python",
     "metadata": {},
     "outputs": []
    }
   ],
   "metadata": {}
  }
 ]
}