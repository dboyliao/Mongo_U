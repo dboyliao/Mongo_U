{
 "metadata": {
  "name": "",
  "signature": "sha256:25428f840f5d824f95411990e4142f988a0c6a453ef16e36f6ae764f5d521fd6"
 },
 "nbformat": 3,
 "nbformat_minor": 0,
 "worksheets": [
  {
   "cells": [
    {
     "cell_type": "markdown",
     "metadata": {},
     "source": [
      "Replica Set on MongoDB\n",
      "===\n",
      "\n",
      "Intro:\n",
      "Replica Set (and shard) on MongoDB are used for failure recovery.\n",
      "You might have many machine that can be used for both master server or slave server.\n",
      "The prerequisite for replica set in MongoDB is that each machine has to be able to run mongod.\n",
      "\n",
      "In this simple totorial, we will use only one machine to display the capability of run replica set on MongoDB.\n",
      "The code is almost the same in the senario which you have access to many machines."
     ]
    },
    {
     "cell_type": "code",
     "collapsed": false,
     "input": [
      "# Step 1: Run up mongod on different port. In this example, they are 27001, 27002, 27003.\n",
      "# Tip: it is good to have odd numbers of machines or servers for majority voting for failover.\n",
      "!mongod --dbpath ./Repl_practice/repl_1 --replSet repl_test --port 27001"
     ],
     "language": "python",
     "metadata": {},
     "outputs": [
      {
       "output_type": "stream",
       "stream": "stdout",
       "text": [
        "2014-08-17T21:14:45.496+0800 [initandlisten] MongoDB starting : pid=70670 port=27001 dbpath=./Repl_practice/repl_1 64-bit host=DboyQmal.local\r\n",
        "2014-08-17T21:14:45.497+0800 [initandlisten] \r\n",
        "2014-08-17T21:14:45.497+0800 [initandlisten] ** WARNING: soft rlimits too low. Number of files is 256, should be at least 1000\r\n",
        "2014-08-17T21:14:45.497+0800 [initandlisten] db version v2.6.3\r\n",
        "2014-08-17T21:14:45.497+0800 [initandlisten] git version: 255f67a66f9603c59380b2a389e386910bbb52cb\r\n",
        "2014-08-17T21:14:45.497+0800 [initandlisten] build info: Darwin mci-osx108-3.build.10gen.cc 12.3.0 Darwin Kernel Version 12.3.0: Sun Jan  6 22:37:10 PST 2013; root:xnu-2050.22.13~1/RELEASE_X86_64 x86_64 BOOST_LIB_VERSION=1_49\r\n",
        "2014-08-17T21:14:45.497+0800 [initandlisten] allocator: system\r\n",
        "2014-08-17T21:14:45.497+0800 [initandlisten] options: { net: { port: 27001 }, replication: { replSet: \"repl_test\" }, storage: { dbPath: \"./Repl_practice/repl_1\" } }\r\n"
       ]
      },
      {
       "output_type": "stream",
       "stream": "stdout",
       "text": [
        "2014-08-17T21:14:45.741+0800 [initandlisten] journal dir=./Repl_practice/repl_1/journal\r\n",
        "2014-08-17T21:14:45.742+0800 [initandlisten] recover : no journal files present, no recovery needed\r\n"
       ]
      },
      {
       "output_type": "stream",
       "stream": "stdout",
       "text": [
        "2014-08-17T21:14:45.805+0800 [initandlisten] waiting for connections on port 27001\r\n",
        "2014-08-17T21:14:45.812+0800 [rsStart] replSet can't get local.system.replset config from self or any seed (EMPTYCONFIG)\r\n"
       ]
      },
      {
       "output_type": "stream",
       "stream": "stdout",
       "text": [
        "2014-08-17T21:14:45.812+0800 [rsStart] replSet info you may need to run replSetInitiate -- rs.initiate() in the shell -- if that is not already done\r\n"
       ]
      },
      {
       "output_type": "stream",
       "stream": "stdout",
       "text": [
        "2014-08-17T21:14:46.813+0800 [rsStart] replSet can't get local.system.replset config from self or any seed (EMPTYCONFIG)\r\n"
       ]
      },
      {
       "output_type": "stream",
       "stream": "stdout",
       "text": [
        "2014-08-17T21:14:47.814+0800 [rsStart] replSet can't get local.system.replset config from self or any seed (EMPTYCONFIG)\r\n"
       ]
      },
      {
       "output_type": "stream",
       "stream": "stdout",
       "text": [
        "2014-08-17T21:14:48.816+0800 [rsStart] replSet can't get local.system.replset config from self or any seed (EMPTYCONFIG)\r\n"
       ]
      },
      {
       "output_type": "stream",
       "stream": "stdout",
       "text": [
        "2014-08-17T21:14:49.817+0800 [rsStart] replSet can't get local.system.replset config from self or any seed (EMPTYCONFIG)\r\n"
       ]
      },
      {
       "output_type": "stream",
       "stream": "stdout",
       "text": [
        "2014-08-17T21:14:50.818+0800 [rsStart] replSet can't get local.system.replset config from self or any seed (EMPTYCONFIG)\r\n"
       ]
      }
     ]
    },
    {
     "cell_type": "markdown",
     "metadata": {},
     "source": [
      "<font color=\"red\">Note that the (EMPTYCONFIG) warning in the console</font><br>\n",
      "<font color=\"red\">This is due to we do not give these replication sets proper configeration</font><br>\n",
      "<font color=\"blue\">Step 2 will show you how to config your replica sets.</font>\n",
      "\n",
      "- --dbpath: Data base path.\n",
      "- -- replSet: replica set name\n",
      "- --port : port address.\n",
      "\n",
      "Other Options:\n",
      "\n",
      "- --oplogSize < size in MB \\> log file size. Default is 5% of disk storage. (Mongo logic: The larger the better.)\n",
      "- --logpath < log path \\>  Target log file. ex: --logpath ./log.1\n",
      "- --logappend  Append log file.\n",
      "- --fork  To run up a mongod an return back to console.\n",
      "\n",
      "Step 2: Replica Config\n",
      "===\n",
      "\n",
      "Given that you have mongod on 27001, 27002 and 27003, <br>\n",
      "you know link mongo to port 27001 --> <font color=\"navy\">We will use this for primary db.</font>\n",
      "\n",
      "We now have three mongod on line, 27001, 27002 and 27003, respectively.\n",
      "However, we have to give proper configeration for MongoDB to make mongo work properly.\n",
      "Here is a sample config file\n",
      "\n",
      "    var cfg = {\n",
      "            _id: \"repl_test\",\n",
      "            members: [\n",
      "                {_id:0, host:\"DboyQmal.local:27001\"},\n",
      "                {_id:1, host:\"DboyQmal.local:27002\"},\n",
      "                {_id:2, host:\"DboyQmal.local:27003\"}\n",
      "                ]};\n",
      "\n",
      "\n",
      "<font color=\"red\">MongoDB do not accept host name to be \"localhost\".<br> \n",
      "You need to give a specific name of the host. (ip address, computer name, ... etc)<br>\n",
      "In this case, it will be \"DboyQmal.local\"<br>\n",
      "<br>\n",
      "You can type \"hostname\" in terminal to see the name of localhost.</font>\n",
      "\n",
      "Once cfg is created, you shall see this on your mongo --port 27001:\n",
      "    > cfg\n",
      "    {\n",
      "    \t\"_id\" : \"repl_test\",\n",
      "        \"members\" : [\n",
      "            {\n",
      "                \"_id\" : 0,\n",
      "                \"host\" : \"DboyQmal.local:27001\"\n",
      "            },\n",
      "            {\n",
      "                \"_id\" : 1,\n",
      "                \"host\" : \"DboyQmal.local:27002\"\n",
      "            },\n",
      "            {\n",
      "                \"_id\" : 2,\n",
      "                \"host\" : \"DboyQmal.local:27003\"\n",
      "            }\n",
      "        ]\n",
      "    }\n",
      "    \n"
     ]
    },
    {
     "cell_type": "code",
     "collapsed": false,
     "input": [
      "from pymongo import mongo_replica_set_client\n",
      "from pymongo import MongoClient"
     ],
     "language": "python",
     "metadata": {},
     "outputs": [],
     "prompt_number": 1
    },
    {
     "cell_type": "code",
     "collapsed": false,
     "input": [
      "Client = MongoClient(host=\"localhost\", port=27001)"
     ],
     "language": "python",
     "metadata": {},
     "outputs": [],
     "prompt_number": 3
    },
    {
     "cell_type": "code",
     "collapsed": false,
     "input": [
      "db = Client.repl_set"
     ],
     "language": "python",
     "metadata": {},
     "outputs": [],
     "prompt_number": 7
    },
    {
     "cell_type": "code",
     "collapsed": false,
     "input": [],
     "language": "python",
     "metadata": {},
     "outputs": []
    }
   ],
   "metadata": {}
  }
 ]
}