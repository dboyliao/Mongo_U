{
 "metadata": {
  "name": "",
  "signature": "sha256:f6954a52ccbf411c12b600cc1da5bebee2f9f5e5aa2fc2d56b23a2b804ce88a0"
 },
 "nbformat": 3,
 "nbformat_minor": 0,
 "worksheets": [
  {
   "cells": [
    {
     "cell_type": "code",
     "collapsed": false,
     "input": [
      "# Here are some examples in python which are equivalent instructions to \"show dbs\", \"use database_name\" and \"db.insert()\" \n",
      "import pymongo\n",
      "client = pymongo.MongoClient(\"localhost\", 27017)\n",
      "client.database_names() # \"> show dbs\""
     ],
     "language": "python",
     "metadata": {},
     "outputs": [
      {
       "metadata": {},
       "output_type": "pyout",
       "prompt_number": 1,
       "text": [
        "[u'local', u'my_test', u'pcat']"
       ]
      }
     ],
     "prompt_number": 1
    },
    {
     "cell_type": "code",
     "collapsed": false,
     "input": [
      "db = client['my_test'] # \"> use my_test\" \\\\ if my_test does not exist, this instruction will create a new database.\n",
      "qmal = db.qmal         # \"db.qmal\" \\\\if collection qmal does not exist, it will create a new one for you.\n",
      "                       # However, no record will be created if that collection is empty."
     ],
     "language": "python",
     "metadata": {},
     "outputs": [],
     "prompt_number": 2
    },
    {
     "cell_type": "code",
     "collapsed": false,
     "input": [
      "qmal.insert({'name':'Dboy', 'age':27}) # \"> db.qmal.insert({...})\" \\\\ insert new document into db.qmal\n",
      "                                       # At this time, collection qmal will be created under my_test database."
     ],
     "language": "python",
     "metadata": {},
     "outputs": [
      {
       "metadata": {},
       "output_type": "pyout",
       "prompt_number": 3,
       "text": [
        "ObjectId('53d9c4babd3f4831a853c6e9')"
       ]
      }
     ],
     "prompt_number": 3
    },
    {
     "cell_type": "code",
     "collapsed": false,
     "input": [
      "# \"> db.getLastError()\"\n",
      "db.get_lasterror_options()"
     ],
     "language": "python",
     "metadata": {},
     "outputs": [
      {
       "metadata": {},
       "output_type": "pyout",
       "prompt_number": 4,
       "text": [
        "{}"
       ]
      }
     ],
     "prompt_number": 4
    },
    {
     "cell_type": "code",
     "collapsed": false,
     "input": [
      "# \"> show collctioons\"\n",
      "for name in db.collection_names():\n",
      "    print name"
     ],
     "language": "python",
     "metadata": {},
     "outputs": [
      {
       "output_type": "stream",
       "stream": "stdout",
       "text": [
        "system.indexes\n",
        "qmal\n"
       ]
      }
     ],
     "prompt_number": 5
    },
    {
     "cell_type": "markdown",
     "metadata": {},
     "source": [
      "============================================================================================"
     ]
    },
    {
     "cell_type": "markdown",
     "metadata": {},
     "source": [
      "Week 2\n",
      "===\n",
      "\n",
      "## Topics of this week.\n",
      "\n",
      "- insert() method\n",
      "- update() method\n",
      "- save() method\n"
     ]
    },
    {
     "cell_type": "markdown",
     "metadata": {},
     "source": [
      "## insert()\n",
      "\n",
      "```\n",
      "Syntax: db.collection.insert({document})\n",
      "Insert a document to db.collection.\n",
      "```\n",
      "\n",
      "Examples:\n",
      "\n",
      "- \"> db.qmal.insert({name:\"c3h3\", age:\"secret\", heigh: 172})\": insert one document.\n",
      "- \"> db.qmal.insert([{doc1}, {doc2}])\": insert multiple documents."
     ]
    },
    {
     "cell_type": "code",
     "collapsed": false,
     "input": [
      "print '> db.qmal.insert({name:\"c3h3\", age:\"secret\", heigh:172})'\n",
      "print \"Result:\"\n",
      "qmal.insert({\"name\":\"c3h3\", \"age\":\"secret\", \"heigh\":172})\n",
      "for item in qmal.find():\n",
      "    print item"
     ],
     "language": "python",
     "metadata": {},
     "outputs": [
      {
       "output_type": "stream",
       "stream": "stdout",
       "text": [
        "> db.qmal.insert({name:\"c3h3\", age:\"secret\", heigh:172})\n",
        "Result:\n",
        "{u'age': 27, u'_id': ObjectId('53d9c4babd3f4831a853c6e9'), u'name': u'Dboy'}\n",
        "{u'age': u'secret', u'_id': ObjectId('53d9c4bcbd3f4831a853c6ea'), u'heigh': 172, u'name': u'c3h3'}\n"
       ]
      }
     ],
     "prompt_number": 6
    },
    {
     "cell_type": "code",
     "collapsed": false,
     "input": [
      "print 'db.qmal.insert([{\"name\": \"a\", \"age\":18}, {\"name\":\"Zoe\", \"age\":29}])'\n",
      "print \"Results:\"\n",
      "qmal.insert([{\"name\": \"a\", \"age\":18}, {\"name\":\"Zoe\", \"age\":29}])\n",
      "for item in qmal.find():\n",
      "    print item"
     ],
     "language": "python",
     "metadata": {},
     "outputs": [
      {
       "output_type": "stream",
       "stream": "stdout",
       "text": [
        "db.qmal.insert([{\"name\": \"a\", \"age\":18}, {\"name\":\"Zoe\", \"age\":29}])\n",
        "Results:\n",
        "{u'age': 27, u'_id': ObjectId('53d9c4babd3f4831a853c6e9'), u'name': u'Dboy'}\n",
        "{u'age': u'secret', u'_id': ObjectId('53d9c4bcbd3f4831a853c6ea'), u'heigh': 172, u'name': u'c3h3'}\n",
        "{u'age': 18, u'_id': ObjectId('53d9c4bdbd3f4831a853c6eb'), u'name': u'a'}\n",
        "{u'age': 29, u'_id': ObjectId('53d9c4bdbd3f4831a853c6ec'), u'name': u'Zoe'}\n"
       ]
      }
     ],
     "prompt_number": 7
    },
    {
     "cell_type": "markdown",
     "metadata": {},
     "source": [
      "============================================================================================"
     ]
    },
    {
     "cell_type": "markdown",
     "metadata": {},
     "source": [
      "## update()\n",
      "\n",
      "```\n",
      "Discreption:\n",
      "    1. Full document replacement/update.\n",
      "    2. Partial document update.\n",
      "\n",
      "Syntax: db.collection.update(<where>, <doc-or-partial-update-expression>, [options: upsert, multi])\n",
      "```\n",
      "\n",
      "- \"> db.qmal.update({age:27}, {{age: 30, name: 'Dboy'}})\"\n",
      "- Find one specific observation in database and update it according to _id field."
     ]
    },
    {
     "cell_type": "code",
     "collapsed": false,
     "input": [
      "print \"> db.qmal.update({age:27}, {{age: 30, name: 'Dboy'}})\"\n",
      "print \"Results:\"\n",
      "qmal.update({\"age\":27}, {'age': 30, 'name': 'Dboy'})\n",
      "for item in qmal.find():\n",
      "    print item"
     ],
     "language": "python",
     "metadata": {},
     "outputs": [
      {
       "output_type": "stream",
       "stream": "stdout",
       "text": [
        "> db.qmal.update({age:27}, {{u'age': 27, u'_id': ObjectId('53d9c4babd3f4831a853c6e9'), u'name': u'Dboy'}})\n",
        "Results:\n",
        "{u'age': 30, u'_id': ObjectId('53d9c4babd3f4831a853c6e9'), u'name': u'Dboy'}\n",
        "{u'age': u'secret', u'_id': ObjectId('53d9c4bcbd3f4831a853c6ea'), u'heigh': 172, u'name': u'c3h3'}\n",
        "{u'age': 18, u'_id': ObjectId('53d9c4bdbd3f4831a853c6eb'), u'name': u'a'}\n",
        "{u'age': 29, u'_id': ObjectId('53d9c4bdbd3f4831a853c6ec'), u'name': u'Zoe'}\n"
       ]
      }
     ],
     "prompt_number": 10
    },
    {
     "cell_type": "code",
     "collapsed": false,
     "input": [
      "print \"> myobj = db.qmal.findOne({age:18})\"\n",
      "print \"> myobj.male = true\"\n",
      "print \"> db.qmal.update({_id:myobj._id}, myobj)\"\n",
      "print \"Results:\"\n",
      "tmp = qmal.find_one({\"age\":18})\n",
      "tmp['male'] = 'true'\n",
      "qmal.update({\"_id\":tmp[\"_id\"]}, tmp)\n",
      "for item in qmal.find():\n",
      "    print item"
     ],
     "language": "python",
     "metadata": {},
     "outputs": [
      {
       "output_type": "stream",
       "stream": "stdout",
       "text": [
        "> myobj = db.qmal.findOne({age:18})\n",
        "> myobj.male = true\n",
        "> db.qmal.update({_id:myobj._id}, myobj)\n",
        "Results:\n",
        "{u'age': 30, u'_id': ObjectId('53d9c4babd3f4831a853c6e9'), u'name': u'Dboy'}\n",
        "{u'age': u'secret', u'_id': ObjectId('53d9c4bcbd3f4831a853c6ea'), u'heigh': 172, u'name': u'c3h3'}\n",
        "{u'age': 29, u'_id': ObjectId('53d9c4bdbd3f4831a853c6ec'), u'name': u'Zoe'}\n",
        "{u'age': 18, u'_id': ObjectId('53d9c4bdbd3f4831a853c6eb'), u'male': u'true', u'name': u'a'}\n"
       ]
      }
     ],
     "prompt_number": 17
    },
    {
     "cell_type": "code",
     "collapsed": false,
     "input": [],
     "language": "python",
     "metadata": {},
     "outputs": []
    }
   ],
   "metadata": {}
  }
 ]
}