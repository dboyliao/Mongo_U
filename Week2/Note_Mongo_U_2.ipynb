{
 "metadata": {
  "name": "",
  "signature": "sha256:d65dcfe3b042e8d70bc6df61672559987d227364d820f188e15c435f075477b6"
 },
 "nbformat": 3,
 "nbformat_minor": 0,
 "worksheets": [
  {
   "cells": [
    {
     "cell_type": "code",
     "collapsed": false,
     "input": [
      "# Here are some examples in python which are equivalent instructions to \"show dbs\", \"use database_name\" and \"db.insert()\" \n",
      "import pymongo\n",
      "client = pymongo.MongoClient(\"localhost\", 27017)\n",
      "client.database_names() # \"> show dbs\""
     ],
     "language": "python",
     "metadata": {},
     "outputs": [
      {
       "metadata": {},
       "output_type": "pyout",
       "prompt_number": 72,
       "text": [
        "[u'bulk_example', u'local', u'my_test', u'pcat', u'admin']"
       ]
      }
     ],
     "prompt_number": 72
    },
    {
     "cell_type": "code",
     "collapsed": false,
     "input": [
      "db = client['bulk_example']\n",
      "bulks = db.bulks\n",
      "bulks.drop()           \n",
      "\n",
      "db = client['my_test'] # \"> use my_test\" \\\\ if my_test does not exist, this instruction will create a new database.\n",
      "qmal = db.qmal         # \"db.qmal\" \\\\if collection qmal does not exist, it will create a new one for you.\n",
      "                       # However, no record will be created if that collection is empty.\n",
      "qmal.drop()            # clean up database"
     ],
     "language": "python",
     "metadata": {},
     "outputs": [],
     "prompt_number": 73
    },
    {
     "cell_type": "code",
     "collapsed": false,
     "input": [
      "qmal.insert({'name':'Dboy', 'age':27}) # \"> db.qmal.insert({...})\" \\\\ insert new document into db.qmal\n",
      "                                       # At this time, collection qmal will be created under my_test database."
     ],
     "language": "python",
     "metadata": {},
     "outputs": [
      {
       "metadata": {},
       "output_type": "pyout",
       "prompt_number": 74,
       "text": [
        "ObjectId('53db4d44bd3f48554b996540')"
       ]
      }
     ],
     "prompt_number": 74
    },
    {
     "cell_type": "code",
     "collapsed": false,
     "input": [
      "# \"> db.getLastError()\"\n",
      "db.get_lasterror_options()"
     ],
     "language": "python",
     "metadata": {},
     "outputs": [
      {
       "metadata": {},
       "output_type": "pyout",
       "prompt_number": 75,
       "text": [
        "{}"
       ]
      }
     ],
     "prompt_number": 75
    },
    {
     "cell_type": "code",
     "collapsed": false,
     "input": [
      "# \"> show collctioons\"\n",
      "for name in db.collection_names():\n",
      "    print name"
     ],
     "language": "python",
     "metadata": {},
     "outputs": [
      {
       "output_type": "stream",
       "stream": "stdout",
       "text": [
        "system.indexes\n",
        "qmal\n"
       ]
      }
     ],
     "prompt_number": 76
    },
    {
     "cell_type": "markdown",
     "metadata": {},
     "source": [
      "Week 2\n",
      "===\n",
      "\n",
      "## Topics of this week.\n",
      "\n",
      "- CRUD\n",
      "- Wire Portocol\n",
      "- Bulk Operation\n",
      "- Administration Commands"
     ]
    },
    {
     "cell_type": "markdown",
     "metadata": {},
     "source": [
      "<font color=\"grass\">CRUD </font>\n",
      "===\n",
      "\n",
      "## insert()\n",
      "\n",
      "```\n",
      "Syntax: db.<collection>.insert({document})\n",
      "Insert a document to db.collection.\n",
      "```\n",
      "\n",
      "Examples:\n",
      "\n",
      "- \"> db.qmal.insert({name:\"c3h3\", age:\"secret\", heigh: 172})\": insert one document.\n",
      "- \"> db.qmal.insert([{doc1}, {doc2}])\": insert multiple documents."
     ]
    },
    {
     "cell_type": "code",
     "collapsed": false,
     "input": [
      "print '> db.qmal.insert({name:\"c3h3\", age:\"secret\", heigh:172})'\n",
      "print \"Result:\"\n",
      "qmal.insert({\"name\":\"c3h3\", \"age\":\"secret\", \"heigh\":172})\n",
      "for item in qmal.find():\n",
      "    print item"
     ],
     "language": "python",
     "metadata": {},
     "outputs": [
      {
       "output_type": "stream",
       "stream": "stdout",
       "text": [
        "> db.qmal.insert({name:\"c3h3\", age:\"secret\", heigh:172})\n",
        "Result:\n",
        "{u'age': 27, u'_id': ObjectId('53db4d44bd3f48554b996540'), u'name': u'Dboy'}\n",
        "{u'age': u'secret', u'_id': ObjectId('53db4d45bd3f48554b996541'), u'heigh': 172, u'name': u'c3h3'}\n"
       ]
      }
     ],
     "prompt_number": 77
    },
    {
     "cell_type": "code",
     "collapsed": false,
     "input": [
      "print 'db.qmal.insert([{\"name\": \"a\", \"age\":18}, {\"name\":\"Zoe\", \"age\":29}])'\n",
      "print \"Results:\"\n",
      "qmal.insert([{\"name\": \"a\", \"age\":18}, {\"name\":\"Zoe\", \"age\":29}])\n",
      "for item in qmal.find():\n",
      "    print item"
     ],
     "language": "python",
     "metadata": {},
     "outputs": [
      {
       "output_type": "stream",
       "stream": "stdout",
       "text": [
        "db.qmal.insert([{\"name\": \"a\", \"age\":18}, {\"name\":\"Zoe\", \"age\":29}])\n",
        "Results:\n",
        "{u'age': 27, u'_id': ObjectId('53db4d44bd3f48554b996540'), u'name': u'Dboy'}\n",
        "{u'age': u'secret', u'_id': ObjectId('53db4d45bd3f48554b996541'), u'heigh': 172, u'name': u'c3h3'}\n",
        "{u'age': 18, u'_id': ObjectId('53db4d45bd3f48554b996542'), u'name': u'a'}\n",
        "{u'age': 29, u'_id': ObjectId('53db4d45bd3f48554b996543'), u'name': u'Zoe'}\n"
       ]
      }
     ],
     "prompt_number": 78
    },
    {
     "cell_type": "markdown",
     "metadata": {},
     "source": [
      "## update()\n",
      "\n",
      "```\n",
      "Discription:\n",
      "    1. Full document replacement/update.\n",
      "    2. Partial document update.\n",
      "\n",
      "Syntax: db.<collection>.update(<where>, <doc-or-partial-update-expression>, [options: upsert, multi])\n",
      "```\n",
      "\n",
      "Examples:\n",
      "- \"> db.qmal.update({age:27}, {{age: 30, name: 'Dboy'}})\"\n",
      "- Find one specific observation in database and update it according to _id field."
     ]
    },
    {
     "cell_type": "code",
     "collapsed": false,
     "input": [
      "print \"> db.qmal.update({age:27}, {{age: 30, name: 'Dboy'}})\"\n",
      "print \"Results:\"\n",
      "qmal.update({\"age\":27}, {'age': 30, 'name': 'Dboy'})\n",
      "for item in qmal.find():\n",
      "    print item"
     ],
     "language": "python",
     "metadata": {},
     "outputs": [
      {
       "output_type": "stream",
       "stream": "stdout",
       "text": [
        "> db.qmal.update({age:27}, {{age: 30, name: 'Dboy'}})\n",
        "Results:\n",
        "{u'age': 30, u'_id': ObjectId('53db4d44bd3f48554b996540'), u'name': u'Dboy'}\n",
        "{u'age': u'secret', u'_id': ObjectId('53db4d45bd3f48554b996541'), u'heigh': 172, u'name': u'c3h3'}\n",
        "{u'age': 18, u'_id': ObjectId('53db4d45bd3f48554b996542'), u'name': u'a'}\n",
        "{u'age': 29, u'_id': ObjectId('53db4d45bd3f48554b996543'), u'name': u'Zoe'}\n"
       ]
      }
     ],
     "prompt_number": 79
    },
    {
     "cell_type": "code",
     "collapsed": false,
     "input": [
      "print \"> myobj = db.qmal.findOne({age:18})\"\n",
      "print \"> myobj.male = true\"\n",
      "print \"> db.qmal.update({_id:myobj._id}, myobj)\"\n",
      "print \"Results:\"\n",
      "tmp = qmal.find_one({\"age\":18})\n",
      "tmp['male'] = 'true'\n",
      "qmal.update({\"_id\":tmp[\"_id\"]}, tmp)\n",
      "for item in qmal.find():\n",
      "    print item"
     ],
     "language": "python",
     "metadata": {},
     "outputs": [
      {
       "output_type": "stream",
       "stream": "stdout",
       "text": [
        "> myobj = db.qmal.findOne({age:18})\n",
        "> myobj.male = true\n",
        "> db.qmal.update({_id:myobj._id}, myobj)\n",
        "Results:\n",
        "{u'age': 30, u'_id': ObjectId('53db4d44bd3f48554b996540'), u'name': u'Dboy'}\n",
        "{u'age': u'secret', u'_id': ObjectId('53db4d45bd3f48554b996541'), u'heigh': 172, u'name': u'c3h3'}\n",
        "{u'age': 29, u'_id': ObjectId('53db4d45bd3f48554b996543'), u'name': u'Zoe'}\n",
        "{u'age': 18, u'_id': ObjectId('53db4d45bd3f48554b996542'), u'male': u'true', u'name': u'a'}\n"
       ]
      }
     ],
     "prompt_number": 80
    },
    {
     "cell_type": "markdown",
     "metadata": {},
     "source": [
      "## save()\n",
      "\n",
      "```\n",
      "Discription: Helper function that combine both find() and update()\n",
      "Syntax: db.<collection>.save({doc})\n",
      "```\n",
      "\n",
      "save() is a short-hand function not a mongo shell command.\n",
      "Here is the source code of save():\n",
      "\n",
      "```\n",
      "db.qmal.save\n",
      "function ( obj ){\n",
      "    if ( obj == null || typeof( obj ) == \"undefined\" )\n",
      "        throw \"can't save a null\";\n",
      "\n",
      "    if ( typeof( obj ) == \"number\" || typeof( obj) == \"string\" )\n",
      "        throw \"can't save a number or string\"\n",
      "\n",
      "    if ( typeof( obj._id ) == \"undefined\" ){\n",
      "        obj._id = new ObjectId();\n",
      "        return this.insert( obj );\n",
      "    }\n",
      "    else {\n",
      "        return this.update( { _id : obj._id } , obj , true );\n",
      "    }\n",
      "}\n",
      "```\n",
      "\n",
      "Examples:\n",
      "- \"> db.qmal.save(tmp)\""
     ]
    },
    {
     "cell_type": "code",
     "collapsed": false,
     "input": [
      "tmp['male'] = 'false'\n",
      "qmal.save(tmp)\n",
      "for item in qmal.find():\n",
      "    print item"
     ],
     "language": "python",
     "metadata": {},
     "outputs": [
      {
       "output_type": "stream",
       "stream": "stdout",
       "text": [
        "{u'age': 30, u'_id': ObjectId('53db4d44bd3f48554b996540'), u'name': u'Dboy'}\n",
        "{u'age': u'secret', u'_id': ObjectId('53db4d45bd3f48554b996541'), u'heigh': 172, u'name': u'c3h3'}\n",
        "{u'age': 29, u'_id': ObjectId('53db4d45bd3f48554b996543'), u'name': u'Zoe'}\n",
        "{u'age': 18, u'_id': ObjectId('53db4d45bd3f48554b996542'), u'male': u'false', u'name': u'a'}\n"
       ]
      }
     ],
     "prompt_number": 81
    },
    {
     "cell_type": "markdown",
     "metadata": {},
     "source": [
      "## Partial Update\n",
      "\n",
      "```\n",
      "Syntax: db.<collection>.update({query}, {update_operator})\n",
      "Notice: the default size limitation in mongodb of each document is 16MB.\n",
      "```\n",
      "\n",
      "Basic Update Operator:\n",
      "- `$set`: set value.\n",
      "- `$unset`: remove value.\n",
      "- `$push`: push to an array.\n",
      "- `$pushAll`: push multiple items.\n",
      "- `$addToSet`: push without duplications.\n",
      "- `$pop`: remove the first or last element of an array\n",
      "- `$unset`\n",
      "- ...\n",
      "\n",
      "See more at: http://docs.mongodb.org/manual/reference/operator/update/\n",
      "\n",
      "Examples:\n",
      "\n",
      "- \"> db.qmal.update({name:'a'}, {$set:{age:30}})\": set 'age' to 30 for the document with name 'a'.\n",
      "\n",
      "- \"> db.qmal.update({name:'c3h3'}, {$push:{interest:'coding'}})\": push single item and store it as an array(list).\n",
      "\n",
      "- \"> db.qmal.update({name:'c3h3'}, {$pushAll:{interst:['cooking', 'math']}})\": push multiple items.<br>\n",
      "\n",
      "```\n",
      "Alternative Syntax: db.qmal.update({name:'c3h3'},\n",
      "                                   {$push:{interest:{$each:['cooking', 'math']}}})\n",
      "\n",
      "```\n",
      "\n",
      "- \"> db.qmal.update({name:'c3h3'}, {$addToSet:{interest:'budism'}})\": push without duplicate.\n"
     ]
    },
    {
     "cell_type": "code",
     "collapsed": false,
     "input": [
      "print \"> db.qmal.update({name:'a'}, {$set:{age:30}})\"\n",
      "print \"Results:\"\n",
      "qmal.update({\"name\":\"a\"}, {\"$set\":{\"age\":30}})\n",
      "for item in qmal.find():\n",
      "    print item"
     ],
     "language": "python",
     "metadata": {},
     "outputs": [
      {
       "output_type": "stream",
       "stream": "stdout",
       "text": [
        "> db.qmal.update({name:'a'}, {$set:{age:30}})\n",
        "Results:\n",
        "{u'age': 30, u'_id': ObjectId('53db4d44bd3f48554b996540'), u'name': u'Dboy'}\n",
        "{u'age': u'secret', u'_id': ObjectId('53db4d45bd3f48554b996541'), u'heigh': 172, u'name': u'c3h3'}\n",
        "{u'age': 29, u'_id': ObjectId('53db4d45bd3f48554b996543'), u'name': u'Zoe'}\n",
        "{u'age': 30, u'_id': ObjectId('53db4d45bd3f48554b996542'), u'male': u'false', u'name': u'a'}\n"
       ]
      }
     ],
     "prompt_number": 82
    },
    {
     "cell_type": "code",
     "collapsed": false,
     "input": [
      "print \"> db.qmal.update({name:'c3h3'}, {$push:{interest:'coding'}})\"\n",
      "print \"Results:\"\n",
      "qmal.update({\"name\":\"c3h3\"}, {\"$push\":{\"interest\":\"coding\"}})\n",
      "for item in qmal.find():\n",
      "    print item"
     ],
     "language": "python",
     "metadata": {},
     "outputs": [
      {
       "output_type": "stream",
       "stream": "stdout",
       "text": [
        "> db.qmal.update({name:'c3h3'}, {$push:{interest:'coding'}})\n",
        "Results:\n",
        "{u'age': 30, u'_id': ObjectId('53db4d44bd3f48554b996540'), u'name': u'Dboy'}\n",
        "{u'age': u'secret', u'_id': ObjectId('53db4d45bd3f48554b996541'), u'heigh': 172, u'interest': [u'coding'], u'name': u'c3h3'}\n",
        "{u'age': 29, u'_id': ObjectId('53db4d45bd3f48554b996543'), u'name': u'Zoe'}\n",
        "{u'age': 30, u'_id': ObjectId('53db4d45bd3f48554b996542'), u'male': u'false', u'name': u'a'}\n"
       ]
      }
     ],
     "prompt_number": 83
    },
    {
     "cell_type": "code",
     "collapsed": false,
     "input": [
      "print \"> db.qmal.update({name:'c3h3'}, {$pushAll:{interst:['cooking', 'math']}})\"\n",
      "print \"Results:\"\n",
      "qmal.update({\"name\":\"c3h3\"}, {\"$pushAll\":{\"interest\":['cooking', 'math']}})\n",
      "for item in qmal.find():\n",
      "    print item"
     ],
     "language": "python",
     "metadata": {},
     "outputs": [
      {
       "output_type": "stream",
       "stream": "stdout",
       "text": [
        "> db.qmal.update({name:'c3h3'}, {$pushAll:{interst:['cooking', 'math']}})\n",
        "Results:\n",
        "{u'age': 30, u'_id': ObjectId('53db4d44bd3f48554b996540'), u'name': u'Dboy'}\n",
        "{u'age': 29, u'_id': ObjectId('53db4d45bd3f48554b996543'), u'name': u'Zoe'}\n",
        "{u'age': 30, u'_id': ObjectId('53db4d45bd3f48554b996542'), u'male': u'false', u'name': u'a'}\n",
        "{u'age': u'secret', u'_id': ObjectId('53db4d45bd3f48554b996541'), u'heigh': 172, u'interest': [u'coding', u'cooking', u'math'], u'name': u'c3h3'}\n"
       ]
      }
     ],
     "prompt_number": 84
    },
    {
     "cell_type": "code",
     "collapsed": false,
     "input": [
      "print \"> db.qmal.update({name:'c3h3'}, {$addToSet:{interest:'budism'}})\"\n",
      "print \"> db.qmal.update({name:'c3h3'}, {$addToSet:{interest:'budism'}})\"\n",
      "print \"> db.qmal.update({name:'c3h3'}, {$addToSet:{interest:'budism'}})\"\n",
      "print \"Results:\"\n",
      "qmal.update({'name':'c3h3'}, {'$addToSet':{'interest':'budism'}})\n",
      "qmal.update({'name':'c3h3'}, {'$addToSet':{'interest':'budism'}})\n",
      "qmal.update({'name':'c3h3'}, {'$addToSet':{'interest':'budism'}})\n",
      "qmal.update({'name':'c3h3'}, {'$addToSet':{'interest':{'$each':['budism', 'computer science']}}})\n",
      "for item in qmal.find():\n",
      "    print item"
     ],
     "language": "python",
     "metadata": {},
     "outputs": [
      {
       "output_type": "stream",
       "stream": "stdout",
       "text": [
        "> db.qmal.update({name:'c3h3'}, {$addToSet:{interest:'budism'}})\n",
        "> db.qmal.update({name:'c3h3'}, {$addToSet:{interest:'budism'}})\n",
        "> db.qmal.update({name:'c3h3'}, {$addToSet:{interest:'budism'}})\n",
        "Results:\n",
        "{u'age': 30, u'_id': ObjectId('53db4d44bd3f48554b996540'), u'name': u'Dboy'}\n",
        "{u'age': 29, u'_id': ObjectId('53db4d45bd3f48554b996543'), u'name': u'Zoe'}\n",
        "{u'age': 30, u'_id': ObjectId('53db4d45bd3f48554b996542'), u'male': u'false', u'name': u'a'}\n",
        "{u'age': u'secret', u'_id': ObjectId('53db4d45bd3f48554b996541'), u'heigh': 172, u'interest': [u'coding', u'cooking', u'math', u'budism', u'computer science'], u'name': u'c3h3'}\n"
       ]
      }
     ],
     "prompt_number": 85
    },
    {
     "cell_type": "code",
     "collapsed": false,
     "input": [
      "print \"> db.qmal.update({name:'c3h3'}, {$pop:{interest:1}})\"\n",
      "print \"Results:\"\n",
      "qmal.update({\"name\":\"c3h3\"}, {\"$pop\":{\"interest\":1}})\n",
      "for item in qmal.find():\n",
      "    print item\n",
      "print\n",
      "print \"> db.qmal.update({name:'c3h3'}, {$pop:{interest:-1}})\"\n",
      "print \"Results:\"\n",
      "qmal.update({\"name\":\"c3h3\"}, {\"$pop\":{\"interest\":-1}})\n",
      "for item in qmal.find():\n",
      "    print item"
     ],
     "language": "python",
     "metadata": {},
     "outputs": [
      {
       "output_type": "stream",
       "stream": "stdout",
       "text": [
        "> db.qmal.update({name:'c3h3'}, {$pop:{interest:1}})\n",
        "Results:\n",
        "{u'age': 30, u'_id': ObjectId('53db4d44bd3f48554b996540'), u'name': u'Dboy'}\n",
        "{u'age': 29, u'_id': ObjectId('53db4d45bd3f48554b996543'), u'name': u'Zoe'}\n",
        "{u'age': 30, u'_id': ObjectId('53db4d45bd3f48554b996542'), u'male': u'false', u'name': u'a'}\n",
        "{u'age': u'secret', u'_id': ObjectId('53db4d45bd3f48554b996541'), u'heigh': 172, u'interest': [u'coding', u'cooking', u'math', u'budism'], u'name': u'c3h3'}\n",
        "\n",
        "> db.qmal.update({name:'c3h3'}, {$pop:{interest:-1}})\n",
        "Results:\n",
        "{u'age': 30, u'_id': ObjectId('53db4d44bd3f48554b996540'), u'name': u'Dboy'}\n",
        "{u'age': 29, u'_id': ObjectId('53db4d45bd3f48554b996543'), u'name': u'Zoe'}\n",
        "{u'age': 30, u'_id': ObjectId('53db4d45bd3f48554b996542'), u'male': u'false', u'name': u'a'}\n",
        "{u'age': u'secret', u'_id': ObjectId('53db4d45bd3f48554b996541'), u'heigh': 172, u'interest': [u'cooking', u'math', u'budism'], u'name': u'c3h3'}\n"
       ]
      }
     ],
     "prompt_number": 86
    },
    {
     "cell_type": "code",
     "collapsed": false,
     "input": [
      "print \"> db.qmal.update({name:'a'}, {$unset:{male:''}})\"\n",
      "print \"Results:\"\n",
      "qmal.update({'name':'a'}, {'$unset':{'male':''}})\n",
      "for item in qmal.find():\n",
      "    print item"
     ],
     "language": "python",
     "metadata": {},
     "outputs": [
      {
       "output_type": "stream",
       "stream": "stdout",
       "text": [
        "> db.qmal.update({name:'a'}, {$unset:{male:''}})\n",
        "Results:\n",
        "{u'age': 30, u'_id': ObjectId('53db4d44bd3f48554b996540'), u'name': u'Dboy'}\n",
        "{u'age': 29, u'_id': ObjectId('53db4d45bd3f48554b996543'), u'name': u'Zoe'}\n",
        "{u'age': 30, u'_id': ObjectId('53db4d45bd3f48554b996542'), u'name': u'a'}\n",
        "{u'age': u'secret', u'_id': ObjectId('53db4d45bd3f48554b996541'), u'heigh': 172, u'interest': [u'cooking', u'math', u'budism'], u'name': u'c3h3'}\n"
       ]
      }
     ],
     "prompt_number": 87
    },
    {
     "cell_type": "markdown",
     "metadata": {},
     "source": [
      "## Removing/Delete Document\n",
      "\n",
      "```\n",
      "Discreption: Remove or delet document from database.(Multi-document operation)\n",
      "Syntax: db.<collection>.remove(<expression>)\n",
      "```\n",
      "\n",
      "Examples:\n",
      "\n",
      "- \"db.qmal.remove({name:'Dboy'})\": remove document with name field 'Dboy'.\n",
      "- \"db.qmal.remove({})\": remove all documents in qmal.\n",
      "- \"db.qmal.remove({\"University.BS\":'NTU'})\": matching with object."
     ]
    },
    {
     "cell_type": "code",
     "collapsed": false,
     "input": [
      "qmal.update({'name':'Zoe'}, {\"$set\":{\"University\":{'BS':'NTU', \"MS\":\"Michigen\", \"PhD\":\"Minnesota\"}}})\n",
      "for item in qmal.find():\n",
      "    print item"
     ],
     "language": "python",
     "metadata": {},
     "outputs": [
      {
       "output_type": "stream",
       "stream": "stdout",
       "text": [
        "{u'age': 30, u'_id': ObjectId('53db4d44bd3f48554b996540'), u'name': u'Dboy'}\n",
        "{u'age': 30, u'_id': ObjectId('53db4d45bd3f48554b996542'), u'name': u'a'}\n",
        "{u'age': u'secret', u'_id': ObjectId('53db4d45bd3f48554b996541'), u'heigh': 172, u'interest': [u'cooking', u'math', u'budism'], u'name': u'c3h3'}\n",
        "{u'University': {u'BS': u'NTU', u'MS': u'Michigen', u'PhD': u'Minnesota'}, u'age': 29, u'_id': ObjectId('53db4d45bd3f48554b996543'), u'name': u'Zoe'}\n"
       ]
      }
     ],
     "prompt_number": 88
    },
    {
     "cell_type": "code",
     "collapsed": false,
     "input": [
      "print '> db.qmal.'\n",
      "for item in qmal.find({\"University.BS\":'NTU'}):\n",
      "    print item"
     ],
     "language": "python",
     "metadata": {},
     "outputs": [
      {
       "output_type": "stream",
       "stream": "stdout",
       "text": [
        "> db.qmal.\n",
        "{u'University': {u'BS': u'NTU', u'MS': u'Michigen', u'PhD': u'Minnesota'}, u'age': 29, u'_id': ObjectId('53db4d45bd3f48554b996543'), u'name': u'Zoe'}\n"
       ]
      }
     ],
     "prompt_number": 89
    },
    {
     "cell_type": "code",
     "collapsed": false,
     "input": [
      "tmp = []\n",
      "for item in qmal.find({'name':'Zoe'}):\n",
      "    tmp.append(item)\n",
      "Zoe2 = tmp[0]\n",
      "print Zoe2\n",
      "print type(Zoe2)"
     ],
     "language": "python",
     "metadata": {},
     "outputs": [
      {
       "output_type": "stream",
       "stream": "stdout",
       "text": [
        "{u'University': {u'BS': u'NTU', u'MS': u'Michigen', u'PhD': u'Minnesota'}, u'age': 29, u'_id': ObjectId('53db4d45bd3f48554b996543'), u'name': u'Zoe'}\n",
        "<type 'dict'>\n"
       ]
      }
     ],
     "prompt_number": 90
    },
    {
     "cell_type": "code",
     "collapsed": false,
     "input": [
      "Zoe2['University']['BS'] = 'Far Far Away U'\n",
      "Zoe2['_id'] = '100'"
     ],
     "language": "python",
     "metadata": {},
     "outputs": [],
     "prompt_number": 91
    },
    {
     "cell_type": "code",
     "collapsed": false,
     "input": [
      "qmal.insert(Zoe2)\n",
      "for item in qmal.find():\n",
      "    print item"
     ],
     "language": "python",
     "metadata": {},
     "outputs": [
      {
       "output_type": "stream",
       "stream": "stdout",
       "text": [
        "{u'age': 30, u'_id': ObjectId('53db4d44bd3f48554b996540'), u'name': u'Dboy'}\n",
        "{u'age': 30, u'_id': ObjectId('53db4d45bd3f48554b996542'), u'name': u'a'}\n",
        "{u'age': u'secret', u'_id': ObjectId('53db4d45bd3f48554b996541'), u'heigh': 172, u'interest': [u'cooking', u'math', u'budism'], u'name': u'c3h3'}\n",
        "{u'University': {u'BS': u'NTU', u'MS': u'Michigen', u'PhD': u'Minnesota'}, u'age': 29, u'_id': ObjectId('53db4d45bd3f48554b996543'), u'name': u'Zoe'}\n",
        "{u'University': {u'PhD': u'Minnesota', u'MS': u'Michigen', u'BS': u'Far Far Away U'}, u'_id': u'100', u'age': 29, u'name': u'Zoe'}\n"
       ]
      }
     ],
     "prompt_number": 92
    },
    {
     "cell_type": "code",
     "collapsed": false,
     "input": [
      "print \"> db.qmal.remove({University.BS: 'Far Far Away U'})\"\n",
      "print \"Results:\"\n",
      "qmal.remove({\"University.BS\":'Far Far Away U'})\n",
      "for item in qmal.find():\n",
      "    print item"
     ],
     "language": "python",
     "metadata": {},
     "outputs": [
      {
       "output_type": "stream",
       "stream": "stdout",
       "text": [
        "> db.qmal.remove({University.BS: 'Far Far Away U'})\n",
        "Results:\n",
        "{u'age': 30, u'_id': ObjectId('53db4d44bd3f48554b996540'), u'name': u'Dboy'}\n",
        "{u'age': 30, u'_id': ObjectId('53db4d45bd3f48554b996542'), u'name': u'a'}\n",
        "{u'age': u'secret', u'_id': ObjectId('53db4d45bd3f48554b996541'), u'heigh': 172, u'interest': [u'cooking', u'math', u'budism'], u'name': u'c3h3'}\n",
        "{u'University': {u'BS': u'NTU', u'MS': u'Michigen', u'PhD': u'Minnesota'}, u'age': 29, u'_id': ObjectId('53db4d45bd3f48554b996543'), u'name': u'Zoe'}\n"
       ]
      }
     ],
     "prompt_number": 93
    },
    {
     "cell_type": "markdown",
     "metadata": {},
     "source": [
      "  "
     ]
    },
    {
     "cell_type": "markdown",
     "metadata": {},
     "source": [
      "## Update: Multiple Documents and Upsert\n",
      "\n",
      "### multi\n",
      "\n",
      "```\n",
      "Syntax: db.collection.update({where}, {obj}, <upsert>, <multi>)\n",
      "Discription: \n",
      "    1. upsert(boolean) indicates that whether to do upsert update. (false by default)\n",
      "    2. multi(boolean) indicates whether to do multidoc update. (false by default)\n",
      "```\n",
      "\n",
      "Examples:\n",
      "- \"> db.qmal.update({age:30}, {$inc:{age:1}}, false, true)\""
     ]
    },
    {
     "cell_type": "code",
     "collapsed": false,
     "input": [
      "print \"Original db.qmal:\"\n",
      "for item in qmal.find():\n",
      "    print item\n",
      "print \"> db.qmal.update({age:30}, {$inc:{age:1}}, false, true)\"\n",
      "print \"Results:\"\n",
      "qmal.update({\"age\":30},{\"$inc\":{\"age\":1}}, upsert=False, multi=True)\n",
      "for item in qmal.find():\n",
      "    print item"
     ],
     "language": "python",
     "metadata": {},
     "outputs": [
      {
       "output_type": "stream",
       "stream": "stdout",
       "text": [
        "Original db.qmal:\n",
        "{u'age': 30, u'_id': ObjectId('53db4d44bd3f48554b996540'), u'name': u'Dboy'}\n",
        "{u'age': 30, u'_id': ObjectId('53db4d45bd3f48554b996542'), u'name': u'a'}\n",
        "{u'age': u'secret', u'_id': ObjectId('53db4d45bd3f48554b996541'), u'heigh': 172, u'interest': [u'cooking', u'math', u'budism'], u'name': u'c3h3'}\n",
        "{u'University': {u'BS': u'NTU', u'MS': u'Michigen', u'PhD': u'Minnesota'}, u'age': 29, u'_id': ObjectId('53db4d45bd3f48554b996543'), u'name': u'Zoe'}\n",
        "> db.qmal.update({age:30}, {$inc:{age:1}}, false, true)\n",
        "Results:\n",
        "{u'age': 31, u'_id': ObjectId('53db4d44bd3f48554b996540'), u'name': u'Dboy'}\n",
        "{u'age': 31, u'_id': ObjectId('53db4d45bd3f48554b996542'), u'name': u'a'}\n",
        "{u'age': u'secret', u'_id': ObjectId('53db4d45bd3f48554b996541'), u'heigh': 172, u'interest': [u'cooking', u'math', u'budism'], u'name': u'c3h3'}\n",
        "{u'University': {u'BS': u'NTU', u'MS': u'Michigen', u'PhD': u'Minnesota'}, u'age': 29, u'_id': ObjectId('53db4d45bd3f48554b996543'), u'name': u'Zoe'}\n"
       ]
      }
     ],
     "prompt_number": 94
    },
    {
     "cell_type": "markdown",
     "metadata": {},
     "source": [
      "### upsert: \"Up\"date or In\"sert\" if Do Not Exist.\n",
      "\n",
      "Examples:\n",
      "- \"db.qmal.update({name:'Dboy'}, {prog_lan:['python', 'matlab']}, upsert = true)\""
     ]
    },
    {
     "cell_type": "code",
     "collapsed": false,
     "input": [
      "print \"> db.qmal.update({name:'Dboy'}, {prog_lan:['python', 'matlab']}, upsert = true)\"\n",
      "print \"Results:\"\n",
      "qmal.update({'name':'Dboy'}, {'$set':{'prog_lan':['python', 'matlab']}}, upsert = True)\n",
      "for prod in qmal.find():\n",
      "    print prod"
     ],
     "language": "python",
     "metadata": {},
     "outputs": [
      {
       "output_type": "stream",
       "stream": "stdout",
       "text": [
        "> db.qmal.update({name:'Dboy'}, {prog_lan:['python', 'matlab']}, upsert = true)\n",
        "Results:\n",
        "{u'age': 31, u'_id': ObjectId('53db4d45bd3f48554b996542'), u'name': u'a'}\n",
        "{u'age': u'secret', u'_id': ObjectId('53db4d45bd3f48554b996541'), u'heigh': 172, u'interest': [u'cooking', u'math', u'budism'], u'name': u'c3h3'}\n",
        "{u'University': {u'BS': u'NTU', u'MS': u'Michigen', u'PhD': u'Minnesota'}, u'age': 29, u'_id': ObjectId('53db4d45bd3f48554b996543'), u'name': u'Zoe'}\n",
        "{u'age': 31, u'_id': ObjectId('53db4d44bd3f48554b996540'), u'prog_lan': [u'python', u'matlab'], u'name': u'Dboy'}\n"
       ]
      }
     ],
     "prompt_number": 95
    },
    {
     "cell_type": "markdown",
     "metadata": {},
     "source": [
      "## MongoDB Wire Protocol\n",
      "\n",
      "The MongoDB Wire Protocol is a simple socket-based, request-response style protocol.\n",
      "Clients communicate with the database server through a regular TCP/IP socket.\n",
      "http://docs.mongodb.org/meta-driver/latest/legacy/mongodb-wire-protocol/\n",
      "\n",
      "The big picture is like this:\n",
      "```\n",
      "         {query}\n",
      "Client -----------> Server\n",
      "\n",
      "        {document}\n",
      "Client <----------- Server\n",
      "            :\n",
      "            :\n",
      "```\n",
      "CRUD: Create, Read, Update, Delete --> these are build for data manipulating.\n",
      "- Query\n",
      "- Insert\n",
      "- Update\n",
      "- Remove\n",
      "- GetMore\n",
      "\n",
      "Special Command --> this is for administrate your server, machine or other else.\n",
      "- Command: get last error for example\n",
      "\n",
      "Query, Insert, Update, Remove and Command are four basic building block of wire protocol in MongoDB\n",
      "\n",
      "Confer to this for more information: http://docs.mongodb.org/manual/reference/command/"
     ]
    },
    {
     "cell_type": "markdown",
     "metadata": {},
     "source": [
      "## Bulk Write Operation\n",
      "\n",
      "There are two different type of bulk write operation:\n",
      "- ordered\n",
      "- unordered: recommanded for the possibility of <>parallism.\n",
      "\n",
      "http://docs.mongodb.org/manual/reference/method/Bulk/"
     ]
    },
    {
     "cell_type": "code",
     "collapsed": false,
     "input": [
      "# Create a new data base and collection.\n",
      "db = client['bulk_example']\n",
      "bulks = db.bulks"
     ],
     "language": "python",
     "metadata": {},
     "outputs": [],
     "prompt_number": 54
    },
    {
     "cell_type": "code",
     "collapsed": false,
     "input": [
      "# Initialize a bulk operator --> already directed to bulk_example.bulks\n",
      "print \"> bulk = db.bulks.initializeUnorderedBulkOp()\"\n",
      "bulk = bulks.initialize_unordered_bulk_op()"
     ],
     "language": "python",
     "metadata": {},
     "outputs": [
      {
       "output_type": "stream",
       "stream": "stdout",
       "text": [
        "> bulk = db.bulks.initializeUnorderedBulkOp()\n"
       ]
      }
     ],
     "prompt_number": 55
    },
    {
     "cell_type": "code",
     "collapsed": false,
     "input": [
      "# Multi insert example\n",
      "print 'bulk.insert{\"name\":\"Hun\"}'\n",
      "print 'bulk.insert({\"name\":\"\u5361\u4ed5\u9054\"})'\n",
      "print 'bulk.insert({\"name\":\"Play\"})'\n",
      "print 'bulk.execute()'\n",
      "print \"Results:\"\n",
      "bulk.insert({\"name\":\"Hun\"})\n",
      "bulk.insert({\"name\":\"\u5361\u4ed5\u9054\"})\n",
      "bulk.insert({\"name\":\"Play\"})\n",
      "\n",
      "bulk.execute()\n",
      "for place in bulks.find():\n",
      "    print place"
     ],
     "language": "python",
     "metadata": {},
     "outputs": [
      {
       "output_type": "stream",
       "stream": "stdout",
       "text": [
        "bulk.insert{\"name\":\"Hun\"}\n",
        "bulk.insert({\"name\":\"\u5361\u4ed5\u9054\"})\n",
        "bulk.insert({\"name\":\"Play\"})\n",
        "bulk.execute()\n",
        "Results:\n",
        "{u'_id': ObjectId('53db2d2cbd3f48554b99653d'), u'name': u'Hun'}\n",
        "{u'_id': ObjectId('53db2d2cbd3f48554b99653e'), u'name': u'\\u5361\\u4ed5\\u9054'}\n",
        "{u'_id': ObjectId('53db2d2cbd3f48554b99653f'), u'name': u'Play'}\n"
       ]
      }
     ],
     "prompt_number": 56
    },
    {
     "cell_type": "code",
     "collapsed": false,
     "input": [
      "# Reinitialize bulk: bulk can be only executed once.\n",
      "print \"> var bulk = db.bulks.initializeUnorderBulkOp();\"\n",
      "bulk = bulks.initialize_unordered_bulk_op()\n",
      "print \"> bulk.find({name:'Hun'}).upsert().update({'$set':{rank:100}})\"\n",
      "print \"> bulk.find({name:'Play'}).upsert().update({'$set':{rank:'?'}})\"\n",
      "print \"> bulk.execute()\"\n",
      "bulk.find({\"name\":\"Hun\"}).upsert().update({\"$set\":{'rank':100}})\n",
      "bulk.find({\"name\":\"Play\"}).upsert().update({\"$set\":{'rank':\"?\"}})\n",
      "bulk.execute()"
     ],
     "language": "python",
     "metadata": {},
     "outputs": [
      {
       "output_type": "stream",
       "stream": "stdout",
       "text": [
        "> var bulk = db.bulks.initializeUnorderBulkOp();\n",
        "> bulk.find({name:'Hun'}).upsert().update({'$set':{rank:100}})\n",
        "> bulk.find({name:'Play'}).upsert().update({'$set':{rank:'?'}})\n",
        "> bulk.execute()\n"
       ]
      },
      {
       "metadata": {},
       "output_type": "pyout",
       "prompt_number": 57,
       "text": [
        "{'nInserted': 0,\n",
        " 'nMatched': 2,\n",
        " 'nModified': 2,\n",
        " 'nRemoved': 0,\n",
        " 'nUpserted': 0,\n",
        " 'upserted': [],\n",
        " 'writeConcernErrors': [],\n",
        " 'writeErrors': []}"
       ]
      }
     ],
     "prompt_number": 57
    },
    {
     "cell_type": "code",
     "collapsed": false,
     "input": [
      "print \"Results:\"\n",
      "for prod in bulks.find():\n",
      "    print prod"
     ],
     "language": "python",
     "metadata": {},
     "outputs": [
      {
       "output_type": "stream",
       "stream": "stdout",
       "text": [
        "Results:\n",
        "{u'_id': ObjectId('53db2d2cbd3f48554b99653d'), u'name': u'Hun', u'rank': 100}\n",
        "{u'_id': ObjectId('53db2d2cbd3f48554b99653e'), u'name': u'\\u5361\\u4ed5\\u9054'}\n",
        "{u'_id': ObjectId('53db2d2cbd3f48554b99653f'), u'name': u'Play', u'rank': u'?'}\n"
       ]
      }
     ],
     "prompt_number": 58
    },
    {
     "cell_type": "code",
     "collapsed": false,
     "input": [
      "# Reinitialize bulk: bulk can be only executed once.\n",
      "print \"> var bulk = db.bulks.initializeUnorderBulkOp();\"\n",
      "bulk = bulks.initialize_unordered_bulk_op()\n",
      "print '> bulk.find({name:\"Play\"}).remove()'\n",
      "print '> bulk.find({name:\"\u5361\u4ed5\u9054\"}).remove()'\n",
      "print '> bulk.execute()'\n",
      "bulk.find({\"name\":\"Play\"}).remove()\n",
      "bulk.find({\"name\":\"\u5361\u4ed5\u9054\"}).remove()\n",
      "bulk.execute()"
     ],
     "language": "python",
     "metadata": {},
     "outputs": [
      {
       "output_type": "stream",
       "stream": "stdout",
       "text": [
        "> var bulk = db.bulks.initializeUnorderBulkOp();\n",
        "> bulk.find({name:\"Play\"}).remove()\n",
        "> bulk.find({name:\"\u5361\u4ed5\u9054\"}).remove()\n",
        "> bulk.execute()\n"
       ]
      },
      {
       "metadata": {},
       "output_type": "pyout",
       "prompt_number": 59,
       "text": [
        "{'nInserted': 0,\n",
        " 'nMatched': 0,\n",
        " 'nModified': 0,\n",
        " 'nRemoved': 2,\n",
        " 'nUpserted': 0,\n",
        " 'upserted': [],\n",
        " 'writeConcernErrors': [],\n",
        " 'writeErrors': []}"
       ]
      }
     ],
     "prompt_number": 59
    },
    {
     "cell_type": "code",
     "collapsed": false,
     "input": [
      "print 'Results:'\n",
      "for place in bulks.find():\n",
      "    print place"
     ],
     "language": "python",
     "metadata": {},
     "outputs": [
      {
       "output_type": "stream",
       "stream": "stdout",
       "text": [
        "Results:\n",
        "{u'_id': ObjectId('53db2d2cbd3f48554b99653d'), u'name': u'Hun', u'rank': 100}\n"
       ]
      }
     ],
     "prompt_number": 60
    },
    {
     "cell_type": "markdown",
     "metadata": {},
     "source": [
      "## Administration Command\n",
      "\n",
      "```\n",
      "Syntax: db.runCommand(commands)\n",
      "Discription: db.runCommand() runs the command in the context of the current database. Some commands are only \n",
      "             applicable in the context of the admin database, and you must change your db object to before \n",
      "             running these commands.\n",
      "```\n",
      "\n",
      "Basic Commands:\n",
      "\n",
      "`1. User Commands:`\n",
      "- getLastError\n",
      "- isMaster\n",
      "- aggregate\n",
      "- MapReduce\n",
      "- count\n",
      "- findAndModify\n",
      "\n",
      "`2. Database Administration Commands:`\n",
      "- drop\n",
      "- create\n",
      "- compact\n",
      "- serverStatus\n",
      "- replSetGetStatus\n",
      "- addShard\n",
      "\n",
      "Run \"db.help()\" for more information.\n",
      "\n",
      "Examples:"
     ]
    },
    {
     "cell_type": "code",
     "collapsed": false,
     "input": [
      "print \"> db.runCommand({isMaster:1})\"\n",
      "print \"> db.runCommand('isMaster') or db.isMaster()\"\n",
      "print \"Results:\"\n",
      "db.command({\"isMaster\":True})\n",
      "db.command(\"isMaster\")"
     ],
     "language": "python",
     "metadata": {},
     "outputs": [
      {
       "output_type": "stream",
       "stream": "stdout",
       "text": [
        "> db.runCommand({isMaster:1})\n",
        "> db.runCommand('isMaster') or db.isMaster()\n",
        "Results:\n"
       ]
      },
      {
       "metadata": {},
       "output_type": "pyout",
       "prompt_number": 68,
       "text": [
        "{u'ismaster': True,\n",
        " u'localTime': datetime.datetime(2014, 8, 1, 7, 0, 44, 139000),\n",
        " u'maxBsonObjectSize': 16777216,\n",
        " u'maxMessageSizeBytes': 48000000,\n",
        " u'maxWireVersion': 2,\n",
        " u'maxWriteBatchSize': 1000,\n",
        " u'minWireVersion': 0,\n",
        " u'ok': 1.0}"
       ]
      }
     ],
     "prompt_number": 68
    },
    {
     "cell_type": "code",
     "collapsed": false,
     "input": [
      "print \"> db.runCommand({'serverStatus':1})\"\n",
      "print \"> db.runCommand('serverStatus') or db.serverStatus()\"\n",
      "print \"Results:\"\n",
      "db.command('serverStatus')"
     ],
     "language": "python",
     "metadata": {},
     "outputs": [
      {
       "output_type": "stream",
       "stream": "stdout",
       "text": [
        "> db.runCommand({'serverStatus':1})\n",
        "> db.runCommand('serverStatus') or db.serverStatus()\n",
        "Results:\n"
       ]
      },
      {
       "metadata": {},
       "output_type": "pyout",
       "prompt_number": 69,
       "text": [
        "{u'asserts': {u'msg': 0,\n",
        "  u'regular': 0,\n",
        "  u'rollovers': 0,\n",
        "  u'user': 0,\n",
        "  u'warning': 0},\n",
        " u'backgroundFlushing': {u'average_ms': 7.654970760233918,\n",
        "  u'flushes': 171,\n",
        "  u'last_finished': datetime.datetime(2014, 8, 1, 7, 15, 22, 278000),\n",
        "  u'last_ms': 7,\n",
        "  u'total_ms': 1309},\n",
        " u'connections': {u'available': 202, u'current': 2, u'totalCreated': 7L},\n",
        " u'cursors': {u'clientCursors_size': 0,\n",
        "  u'note': u'deprecated, use server status metrics',\n",
        "  u'pinned': 0,\n",
        "  u'timedOut': 0,\n",
        "  u'totalNoTimeout': 0,\n",
        "  u'totalOpen': 0},\n",
        " u'dur': {u'commits': 29,\n",
        "  u'commitsInWriteLock': 0,\n",
        "  u'compression': 0.0,\n",
        "  u'earlyCommits': 0,\n",
        "  u'journaledMB': 0.0,\n",
        "  u'timeMs': {u'dt': 3026,\n",
        "   u'prepLogBuffer': 0,\n",
        "   u'remapPrivateView': 0,\n",
        "   u'writeToDataFiles': 0,\n",
        "   u'writeToJournal': 0},\n",
        "  u'writeToDataFilesMB': 0.0},\n",
        " u'extra_info': {u'note': u'fields vary by platform', u'page_faults': 14426},\n",
        " u'globalLock': {u'activeClients': {u'readers': 0, u'total': 0, u'writers': 0},\n",
        "  u'currentQueue': {u'readers': 0, u'total': 0, u'writers': 0},\n",
        "  u'lockTime': 684600L,\n",
        "  u'totalTime': 13516667000L},\n",
        " u'host': u'DboyLiaotekiMacBook-Pro.local',\n",
        " u'indexCounters': {u'accesses': 118,\n",
        "  u'hits': 118,\n",
        "  u'missRatio': 0.0,\n",
        "  u'misses': 0,\n",
        "  u'resets': 0},\n",
        " u'localTime': datetime.datetime(2014, 8, 1, 7, 15, 51, 463000),\n",
        " u'locks': {u'.': {u'timeAcquiringMicros': {u'R': 516715L, u'W': 225082L},\n",
        "   u'timeLockedMicros': {u'R': 615608L, u'W': 684600L}},\n",
        "  u'admin': {u'timeAcquiringMicros': {u'r': 686L, u'w': 0L},\n",
        "   u'timeLockedMicros': {u'r': 11018L, u'w': 0L}},\n",
        "  u'bulk_example': {u'timeAcquiringMicros': {u'r': 26124L, u'w': 214L},\n",
        "   u'timeLockedMicros': {u'r': 66465L, u'w': 29371L}},\n",
        "  u'local': {u'timeAcquiringMicros': {u'r': 22032L, u'w': 2L},\n",
        "   u'timeLockedMicros': {u'r': 669837L, u'w': 12L}},\n",
        "  u'my_test': {u'timeAcquiringMicros': {u'r': 36374L, u'w': 423L},\n",
        "   u'timeLockedMicros': {u'r': 323434L, u'w': 50427L}},\n",
        "  u'pcat': {u'timeAcquiringMicros': {u'r': 21215L, u'w': 4L},\n",
        "   u'timeLockedMicros': {u'r': 284979L, u'w': 56L}}},\n",
        " u'mem': {u'bits': 64,\n",
        "  u'mapped': 320,\n",
        "  u'mappedWithJournal': 640,\n",
        "  u'resident': 51,\n",
        "  u'supported': True,\n",
        "  u'virtual': 3134},\n",
        " u'metrics': {u'cursor': {u'open': {u'noTimeout': 0L,\n",
        "    u'pinned': 0L,\n",
        "    u'total': 0L},\n",
        "   u'timedOut': 0L},\n",
        "  u'document': {u'deleted': 8L,\n",
        "   u'inserted': 54L,\n",
        "   u'returned': 507L,\n",
        "   u'updated': 84L},\n",
        "  u'getLastError': {u'wtime': {u'num': 0, u'totalMillis': 0},\n",
        "   u'wtimeouts': 0L},\n",
        "  u'operation': {u'fastmod': 8L, u'idhack': 0L, u'scanAndOrder': 0L},\n",
        "  u'queryExecutor': {u'scanned': 84L, u'scannedObjects': 84L},\n",
        "  u'record': {u'moves': 20L},\n",
        "  u'repl': {u'apply': {u'batches': {u'num': 0, u'totalMillis': 0}, u'ops': 0L},\n",
        "   u'buffer': {u'count': 0L, u'maxSizeBytes': 268435456, u'sizeBytes': 0L},\n",
        "   u'network': {u'bytes': 0L,\n",
        "    u'getmores': {u'num': 0, u'totalMillis': 0},\n",
        "    u'ops': 0L,\n",
        "    u'readersCreated': 0L},\n",
        "   u'preload': {u'docs': {u'num': 0, u'totalMillis': 0},\n",
        "    u'indexes': {u'num': 0, u'totalMillis': 0}}},\n",
        "  u'storage': {u'freelist': {u'search': {u'bucketExhausted': 0L,\n",
        "     u'requests': 133L,\n",
        "     u'scanned': 223L}}},\n",
        "  u'ttl': {u'deletedDocuments': 0L, u'passes': 171L}},\n",
        " u'network': {u'bytesIn': 32684, u'bytesOut': 65224, u'numRequests': 328},\n",
        " u'ok': 1.0,\n",
        " u'opcounters': {u'command': 93,\n",
        "  u'delete': 8,\n",
        "  u'getmore': 0,\n",
        "  u'insert': 54,\n",
        "  u'query': 986,\n",
        "  u'update': 80},\n",
        " u'opcountersRepl': {u'command': 0,\n",
        "  u'delete': 0,\n",
        "  u'getmore': 0,\n",
        "  u'insert': 0,\n",
        "  u'query': 0,\n",
        "  u'update': 0},\n",
        " u'pid': 16852L,\n",
        " u'process': u'mongod',\n",
        " u'recordStats': {u'accessesNotInMemory': 0,\n",
        "  u'admin': {u'accessesNotInMemory': 0, u'pageFaultExceptionsThrown': 0},\n",
        "  u'bulk_example': {u'accessesNotInMemory': 0,\n",
        "   u'pageFaultExceptionsThrown': 0},\n",
        "  u'local': {u'accessesNotInMemory': 0, u'pageFaultExceptionsThrown': 0},\n",
        "  u'my_test': {u'accessesNotInMemory': 0, u'pageFaultExceptionsThrown': 0},\n",
        "  u'pageFaultExceptionsThrown': 0,\n",
        "  u'pcat': {u'accessesNotInMemory': 0, u'pageFaultExceptionsThrown': 0}},\n",
        " u'uptime': 13517.0,\n",
        " u'uptimeEstimate': 9448.0,\n",
        " u'uptimeMillis': 13516667L,\n",
        " u'version': u'2.6.3',\n",
        " u'writeBacksQueued': False}"
       ]
      }
     ],
     "prompt_number": 69
    },
    {
     "cell_type": "code",
     "collapsed": false,
     "input": [
      "print \"Show current operation on mongod.\"\n",
      "print \"> db.currentOp()\"\n",
      "print \"Results:\"\n",
      "db.current_op()"
     ],
     "language": "python",
     "metadata": {},
     "outputs": [
      {
       "output_type": "stream",
       "stream": "stdout",
       "text": [
        "Show current operation on mongod.\n",
        "> db.currentOp()\n",
        "Results:\n"
       ]
      },
      {
       "metadata": {},
       "output_type": "pyout",
       "prompt_number": 71,
       "text": [
        "{u'inprog': []}"
       ]
      }
     ],
     "prompt_number": 71
    },
    {
     "cell_type": "markdown",
     "metadata": {},
     "source": [
      "## db.collection.stats() And db.collection.drop()\n",
      "\n",
      "```\n",
      "Discription: Show collection statistics or drop entire collection.\n",
      "```\n",
      "\n",
      "Examples:"
     ]
    },
    {
     "cell_type": "code",
     "collapsed": false,
     "input": [
      "print '> db.qmal.stats()'\n",
      "print 'Results:'\n",
      "db.command('collstats', 'qmal')"
     ],
     "language": "python",
     "metadata": {},
     "outputs": [
      {
       "output_type": "stream",
       "stream": "stdout",
       "text": [
        "> db.qmal.stats()\n",
        "Results:\n"
       ]
      },
      {
       "metadata": {},
       "output_type": "pyout",
       "prompt_number": 98,
       "text": [
        "{u'avgObjSize': 144,\n",
        " u'count': 4,\n",
        " u'indexSizes': {u'_id_': 8176, u'name_1': 8176},\n",
        " u'lastExtentSize': 8192,\n",
        " u'nindexes': 2,\n",
        " u'ns': u'my_test.qmal',\n",
        " u'numExtents': 1,\n",
        " u'ok': 1.0,\n",
        " u'paddingFactor': 1.0020000000000002,\n",
        " u'size': 576,\n",
        " u'storageSize': 8192,\n",
        " u'systemFlags': 1,\n",
        " u'totalIndexSize': 16352,\n",
        " u'userFlags': 1}"
       ]
      }
     ],
     "prompt_number": 98
    },
    {
     "cell_type": "code",
     "collapsed": false,
     "input": [
      "print '> db.qmal.drop()'\n",
      "print 'Results:'\n",
      "qmal.drop()"
     ],
     "language": "python",
     "metadata": {},
     "outputs": [
      {
       "output_type": "stream",
       "stream": "stdout",
       "text": [
        "> db.qmal.drop()\n",
        "Results:\n"
       ]
      }
     ],
     "prompt_number": 100
    },
    {
     "cell_type": "markdown",
     "metadata": {},
     "source": [
      "![Screen Shot](https://raw.github.com/dboyliao/Mongo_U/master/ScreenShot.png)"
     ]
    },
    {
     "cell_type": "code",
     "collapsed": false,
     "input": [],
     "language": "python",
     "metadata": {},
     "outputs": []
    },
    {
     "cell_type": "markdown",
     "metadata": {},
     "source": [
      "<font color=\"red\">Note: db.collection.ensureIndex() will be better understood after Week3</font>\n",
      "<font color='red'>We first skip these topics here.</font>"
     ]
    },
    {
     "cell_type": "code",
     "collapsed": false,
     "input": [],
     "language": "python",
     "metadata": {},
     "outputs": []
    }
   ],
   "metadata": {}
  }
 ]
}