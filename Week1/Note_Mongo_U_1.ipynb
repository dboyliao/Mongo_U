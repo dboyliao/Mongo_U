{
 "metadata": {
  "name": "",
  "signature": "sha256:f3e363f67a7d8f7afa7f73bb38ace6cb70c7041450c8de9ac2af538c0e13c2a3"
 },
 "nbformat": 3,
 "nbformat_minor": 0,
 "worksheets": [
  {
   "cells": [
    {
     "cell_type": "code",
     "collapsed": false,
     "input": [
      "import pymongo\n",
      "client = pymongo.MongoClient(\"localhost\", 27017)\n",
      "db = client.pcat\n",
      "products = db['products']\n",
      "products.find_one()"
     ],
     "language": "python",
     "metadata": {},
     "outputs": [
      {
       "metadata": {},
       "output_type": "pyout",
       "prompt_number": 1,
       "text": [
        "{u'_id': u'ac3',\n",
        " u'available': True,\n",
        " u'brand': u'ACME',\n",
        " u'name': u'AC3 Phone',\n",
        " u'price': 200,\n",
        " u'type': u'phone',\n",
        " u'warranty_years': 1}"
       ]
      }
     ],
     "prompt_number": 1
    },
    {
     "cell_type": "markdown",
     "metadata": {},
     "source": [
      "# Week 1 notes: \n",
      "\n",
      "## Basic Concept\n",
      "\n",
      "- execute \"mongod\" in shell to start up a mongo server(local).\n",
      "- execute \"mongo\" in shell to start up a mongo shell which can be used to communicate with the mongo server. <br>\n",
      "  'mongo local/pcat' will link mongo to local host with pcat data base.\n",
      "\n",
      "- What Mongo can't do: \"join\" and \"complex transation\" in SQL."
     ]
    },
    {
     "cell_type": "markdown",
     "metadata": {},
     "source": [
      "## Data types\n",
      "\n",
      "- string\n",
      "- boolean\n",
      "- numbers\n",
      "- null\n",
      "- arrays\n",
      "- objects/documents\n"
     ]
    },
    {
     "cell_type": "markdown",
     "metadata": {},
     "source": [
      "## JSON syntax\n",
      "\n",
      "A JSON document in mongo will look like this:\n",
      "\n",
      "    {\"_id\": 100,\n",
      "     \"name\": \"Dboy\",\n",
      "     \"gender\": \"male\",\n",
      "     \"age\": 27,\n",
      "     <field name>: <value>}\n"
     ]
    },
    {
     "cell_type": "markdown",
     "metadata": {},
     "source": [
      "## `Mongoimport`\n",
      "\n",
      "mongoimport can import following file formats.\n",
      "\n",
      "- CSV\n",
      "- TSV\n",
      "- JSON\n",
      "\n",
      "`Execute \"mongoimport --help\" for more detail.`\n",
      "\n",
      "## `Mongoimport: syntax`\n",
      "\n",
      "`mongoimport --db <data base name> --collection <collection name> < <source file:.json, .tsv, .csv>`\n",
      "\n",
      "- Example: \"mongoimport --db pcat --collection products < products.json\"\n",
      "\n",
      "Then in /data/db, you will see few files are created. Something like this:\n",
      "\n",
      "- pcat.0\n",
      "- pcat.1\n",
      "- pcat.ns\n",
      "\n",
      "`delete above files will eliminate the data set.`\n",
      "\n",
      "### Tips:\n",
      "- Execute \"mongoimport --stopOnError\" for the first time to see whether there is any error in source file.\n",
      "- \"cls\" will clean the screen for you."
     ]
    },
    {
     "cell_type": "markdown",
     "metadata": {},
     "source": [
      "## Cursor\n",
      "\n",
      "Basic variable and method in mongo shell\n",
      "\n",
      "- \"db\": current data set\n",
      "- \"use db_name\": switch current data base to db_name.\n",
      "- \"show dbs\" and \"show collections\": show all available data bases and all available collections in current data base.\n",
      "- \"db.collection_name.find()\": it will list all the content of specific collection in db.\n",
      "- \"it\": Once you have a large data base, mongo shell will ask you to enter \"it\" for showing more data.\n",
      "- \"db.collection_name.count()\": counting the number of observations in db.collection.\n",
      "\n",
      "`Execute \"help\" in mongo shell for more information.`"
     ]
    },
    {
     "cell_type": "code",
     "collapsed": false,
     "input": [
      "for prod in products.find().limit(3):\n",
      "    print prod"
     ],
     "language": "python",
     "metadata": {},
     "outputs": [
      {
       "output_type": "stream",
       "stream": "stdout",
       "text": [
        "{u'available': True, u'warranty_years': 1, u'name': u'AC3 Phone', u'price': 200, u'_id': u'ac3', u'type': u'phone', u'brand': u'ACME'}\n",
        "{u'available': False, u'warranty_years': 1, u'name': u'AC7 Phone', u'price': 320, u'_id': u'ac7', u'type': u'phone', u'brand': u'ACME'}\n",
        "{u'warranty_years': 0.25, u'name': u'AC3 Series Charger', u'for': [u'ac3', u'ac7', u'ac9'], u'price': 19, u'_id': ObjectId('507d95d5719dbef170f15bf9'), u'type': [u'accessory', u'charger']}\n"
       ]
      }
     ],
     "prompt_number": 2
    },
    {
     "cell_type": "markdown",
     "metadata": {},
     "source": [
      "## find()\n",
      "\n",
      "Here are some examples:\n",
      "\n",
      "- \"db.products.find({}, {name:1, _id: 0})\": search through all observations and show only the column \"name\" (without _id).\n",
      "- \"db.products.find().limit(10).toArray()\": find all observations and show only 10 of them with array format.\n",
      "- \"db.products.findOne()\": show the first observation in db.\n",
      "- \"db.products.find().limit(4).skip(2)\": skip first 2 observation and show only next 4 observations.\n",
      "- \"db.products.find({query}, {filter})\": Query db according to {query} and filt out by {filter}. <br>\n",
      "   Example 1: db.products.find({name:\"ac3\"}, {name:1, _id:0}) --> show observation with name=\"ace\" and only \"name\" column. <br>\n",
      "   Example 2: db.products.find({price:{$gte: 200}}) --> price >= 200 (other options: lte --> less than or equal, lt --> less than, gt --> greater than, in nin or not\n",
      "   \n",
      "- \"db.products.find({for:{$exists: true}}, {for:1})\": \n"
     ]
    },
    {
     "cell_type": "code",
     "collapsed": false,
     "input": [
      "print \"> db.products.find({}, {name:1, _id:0})\"\n",
      "print \"Results:\"\n",
      "for prod in products.find({}, {\"name\":1, \"_id\":0}):\n",
      "    print prod"
     ],
     "language": "python",
     "metadata": {},
     "outputs": [
      {
       "output_type": "stream",
       "stream": "stdout",
       "text": [
        "> db.products.find({}, {name:1, _id:0})\n",
        "Results:\n",
        "{u'name': u'AC3 Phone'}\n",
        "{u'name': u'AC7 Phone'}\n",
        "{u'name': u'AC3 Series Charger'}\n",
        "{u'name': u'AC3 Case Green'}\n",
        "{u'name': u'Phone Extended Warranty'}\n",
        "{u'name': u'AC3 Case Black'}\n",
        "{u'name': u'AC3 Case Red'}\n",
        "{u'name': u'Phone Service Basic Plan'}\n",
        "{u'name': u'Phone Service Core Plan'}\n",
        "{u'name': u'Phone Service Family Plan'}\n",
        "{u'name': u'Cable TV Basic Service Package'}\n",
        "{u'name': u'AC9 Phone'}\n"
       ]
      }
     ],
     "prompt_number": 3
    },
    {
     "cell_type": "code",
     "collapsed": false,
     "input": [
      "print \"> db.products.find().limit(4)\"\n",
      "print \"Results:\"\n",
      "for prod in products.find().limit(4):\n",
      "    print prod\n",
      "print\n",
      "print \"> db.products.find().limit(4).skip(2)\"\n",
      "print \"Results:\"\n",
      "for prod in products.find().limit(4).skip(2):\n",
      "    print prod"
     ],
     "language": "python",
     "metadata": {},
     "outputs": [
      {
       "output_type": "stream",
       "stream": "stdout",
       "text": [
        "> db.products.find().limit(4)\n",
        "Results:\n",
        "{u'available': True, u'warranty_years': 1, u'name': u'AC3 Phone', u'price': 200, u'_id': u'ac3', u'type': u'phone', u'brand': u'ACME'}\n",
        "{u'available': False, u'warranty_years': 1, u'name': u'AC7 Phone', u'price': 320, u'_id': u'ac7', u'type': u'phone', u'brand': u'ACME'}\n",
        "{u'warranty_years': 0.25, u'name': u'AC3 Series Charger', u'for': [u'ac3', u'ac7', u'ac9'], u'price': 19, u'_id': ObjectId('507d95d5719dbef170f15bf9'), u'type': [u'accessory', u'charger']}\n",
        "{u'warranty_years': 0, u'name': u'AC3 Case Green', u'color': u'green', u'price': 12, u'_id': ObjectId('507d95d5719dbef170f15bfa'), u'type': [u'accessory', u'case']}\n",
        "\n",
        "> db.products.find().limit(4).skip(2)\n",
        "Results:\n",
        "{u'warranty_years': 0.25, u'name': u'AC3 Series Charger', u'for': [u'ac3', u'ac7', u'ac9'], u'price': 19, u'_id': ObjectId('507d95d5719dbef170f15bf9'), u'type': [u'accessory', u'charger']}\n",
        "{u'warranty_years': 0, u'name': u'AC3 Case Green', u'color': u'green', u'price': 12, u'_id': ObjectId('507d95d5719dbef170f15bfa'), u'type': [u'accessory', u'case']}\n",
        "{u'warranty_years': 2, u'name': u'Phone Extended Warranty', u'for': [u'ac3', u'ac7', u'ac9', u'qp7', u'qp8', u'qp9'], u'price': 38, u'_id': ObjectId('507d95d5719dbef170f15bfb'), u'type': u'warranty'}\n",
        "{u'available': False, u'warranty_years': 0.25, u'name': u'AC3 Case Black', u'for': u'ac3', u'color': u'black', u'price': 12.5, u'_id': ObjectId('507d95d5719dbef170f15bfc'), u'type': [u'accessory', u'case']}\n"
       ]
      }
     ],
     "prompt_number": 4
    },
    {
     "cell_type": "code",
     "collapsed": false,
     "input": [
      "print \"> db.products.find({price:{$gte:200, $lte:330}},{_id:0, name:1})\"\n",
      "print \"Results:\"\n",
      "for prod in products.find({\"price\":{\"$gte\":200, \"$lte\":320}},{'_id':0, \"name\":1, \"price\":1}):\n",
      "    print prod\n",
      "print\n",
      "print \"> db.products.find({price:{$gte:200, $lt:330}},{_id:0, name:1})\"\n",
      "print \"Results:\"\n",
      "for prod in products.find({\"price\":{\"$gte\":200, \"$lt\":320}},{'_id':0, \"name\":1, \"price\":1}):\n",
      "    print prod"
     ],
     "language": "python",
     "metadata": {},
     "outputs": [
      {
       "output_type": "stream",
       "stream": "stdout",
       "text": [
        "> db.products.find({price:{$gte:200, $lte:330}},{_id:0, name:1})\n",
        "Results:\n",
        "{u'price': 200, u'name': u'AC3 Phone'}\n",
        "{u'price': 320, u'name': u'AC7 Phone'}\n",
        "\n",
        "> db.products.find({price:{$gte:200, $lt:330}},{_id:0, name:1})\n",
        "Results:\n",
        "{u'price': 200, u'name': u'AC3 Phone'}\n"
       ]
      }
     ],
     "prompt_number": 5
    },
    {
     "cell_type": "code",
     "collapsed": false,
     "input": [
      "print \"> db.products.find({for:{$exist:true}}, {_id:0, name:1})\"\n",
      "print \"Results:\"\n",
      "for prod in products.find({'for':{'$exists':'true'}}, {'_id':0, 'name':1, \"for\":1}):\n",
      "    print prod"
     ],
     "language": "python",
     "metadata": {},
     "outputs": [
      {
       "output_type": "stream",
       "stream": "stdout",
       "text": [
        "> db.products.find({for:{$exist:true}}, {_id:0, name:1})\n",
        "Results:\n",
        "{u'name': u'AC3 Series Charger', u'for': [u'ac3', u'ac7', u'ac9']}\n",
        "{u'name': u'Phone Extended Warranty', u'for': [u'ac3', u'ac7', u'ac9', u'qp7', u'qp8', u'qp9']}\n",
        "{u'name': u'AC3 Case Black', u'for': u'ac3'}\n",
        "{u'name': u'AC3 Case Red', u'for': u'ac3'}\n"
       ]
      }
     ],
     "prompt_number": 6
    },
    {
     "cell_type": "code",
     "collapsed": false,
     "input": [
      "print \"> db.products.findOne({_id:'ac3'}, {price:0})\"\n",
      "print \"Result:\"\n",
      "print products.find_one({\"_id\":'ac3'}, {\"price\":0})"
     ],
     "language": "python",
     "metadata": {},
     "outputs": [
      {
       "output_type": "stream",
       "stream": "stdout",
       "text": [
        "> db.products.findOne({_id:'ac3'}, {price:0})\n",
        "Result:\n",
        "{u'available': True, u'warranty_years': 1, u'name': u'AC3 Phone', u'brand': u'ACME', u'_id': u'ac3', u'type': u'phone'}\n"
       ]
      }
     ],
     "prompt_number": 7
    },
    {
     "cell_type": "code",
     "collapsed": false,
     "input": [
      "print \"Query through an array\"\n",
      "print \"> db.products.findOne({for:{$exists:true}}, {name:1})\"\n",
      "print products.find_one({\"for\":{'$exists':'true'}}, {\"price\":0})\n",
      "print \"> db.products.find({for:'ac3'}, {name:1})\"\n",
      "for prod in products.find({\"for\": \"ac3\"}, {'name':1, 'for':1}):\n",
      "    print prod"
     ],
     "language": "python",
     "metadata": {},
     "outputs": [
      {
       "output_type": "stream",
       "stream": "stdout",
       "text": [
        "Query through an array\n",
        "> db.products.findOne({for:{$exists:true}}, {name:1})\n",
        "{u'warranty_years': 0.25, u'_id': ObjectId('507d95d5719dbef170f15bf9'), u'type': [u'accessory', u'charger'], u'name': u'AC3 Series Charger', u'for': [u'ac3', u'ac7', u'ac9']}\n",
        "> db.products.find({for:'ac3'}, {name:1})\n",
        "{u'_id': ObjectId('507d95d5719dbef170f15bf9'), u'name': u'AC3 Series Charger', u'for': [u'ac3', u'ac7', u'ac9']}\n",
        "{u'_id': ObjectId('507d95d5719dbef170f15bfb'), u'name': u'Phone Extended Warranty', u'for': [u'ac3', u'ac7', u'ac9', u'qp7', u'qp8', u'qp9']}\n",
        "{u'_id': ObjectId('507d95d5719dbef170f15bfc'), u'name': u'AC3 Case Black', u'for': u'ac3'}\n",
        "{u'_id': ObjectId('507d95d5719dbef170f15bfd'), u'name': u'AC3 Case Red', u'for': u'ac3'}\n"
       ]
      }
     ],
     "prompt_number": 8
    },
    {
     "cell_type": "markdown",
     "metadata": {},
     "source": [
      "## Sorting\n",
      "\n",
      "- Syntax: db.collection.find({query}, {filter}).sort({field1_name: direction, field2_name: direction})\n",
      "- direction: 1 --> ascending, -1 --> descending\n",
      "\n",
      "### Examples:\n",
      "\n",
      "- db.products.find({}, {_id:0, name:1, price:1}).sort(price:1)\n"
     ]
    },
    {
     "cell_type": "code",
     "collapsed": false,
     "input": [
      "print \"> db.products.find({}, {_id:0, name:1, price:1}).sort({price:1})\"\n",
      "print \"Results:\"\n",
      "for prod in products.find({}, {'_id':0, 'name':1, 'price':1}).sort('price', 1):\n",
      "    print prod\n",
      "print \n",
      "print \"> db.products.find({price:{$exists:true}}, {_id:0, name:1, price:1}).sort({price:1})\"\n",
      "print \"Results:\"\n",
      "for prod in products.find({'price':{'$exists':'true'}}, {'_id':0, 'name':1, 'price':1}).sort('price', 1):\n",
      "    print prod\n",
      "# Multi fields sorting: http://stackoverflow.com/questions/8109122/how-to-sort-mongodb-with-pymongo"
     ],
     "language": "python",
     "metadata": {},
     "outputs": [
      {
       "output_type": "stream",
       "stream": "stdout",
       "text": [
        "> db.products.find({}, {_id:0, name:1, price:1}).sort({price:1})\n",
        "Results:\n",
        "{u'name': u'Phone Service Basic Plan'}\n",
        "{u'name': u'Phone Service Core Plan'}\n",
        "{u'name': u'Phone Service Family Plan'}\n",
        "{u'name': u'Cable TV Basic Service Package'}\n",
        "{u'price': 12, u'name': u'AC3 Case Green'}\n",
        "{u'price': 12, u'name': u'AC3 Case Red'}\n",
        "{u'price': 12.5, u'name': u'AC3 Case Black'}\n",
        "{u'price': 19, u'name': u'AC3 Series Charger'}\n",
        "{u'price': 38, u'name': u'Phone Extended Warranty'}\n",
        "{u'price': 200, u'name': u'AC3 Phone'}\n",
        "{u'price': 320, u'name': u'AC7 Phone'}\n",
        "{u'price': 333.0, u'name': u'AC9 Phone'}\n",
        "\n",
        "> db.products.find({price:{$exists:true}}, {_id:0, name:1, price:1}).sort({price:1})\n",
        "Results:\n",
        "{u'price': 12, u'name': u'AC3 Case Green'}\n",
        "{u'price': 12, u'name': u'AC3 Case Red'}\n",
        "{u'price': 12.5, u'name': u'AC3 Case Black'}\n",
        "{u'price': 19, u'name': u'AC3 Series Charger'}\n",
        "{u'price': 38, u'name': u'Phone Extended Warranty'}\n",
        "{u'price': 200, u'name': u'AC3 Phone'}\n",
        "{u'price': 320, u'name': u'AC7 Phone'}\n",
        "{u'price': 333.0, u'name': u'AC9 Phone'}\n"
       ]
      }
     ],
     "prompt_number": 9
    },
    {
     "cell_type": "code",
     "collapsed": false,
     "input": [],
     "language": "python",
     "metadata": {},
     "outputs": [],
     "prompt_number": 9
    },
    {
     "cell_type": "code",
     "collapsed": false,
     "input": [],
     "language": "python",
     "metadata": {},
     "outputs": []
    }
   ],
   "metadata": {}
  }
 ]
}